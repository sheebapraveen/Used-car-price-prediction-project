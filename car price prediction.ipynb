{
 "cells": [
  {
   "cell_type": "markdown",
   "id": "528ddaaa",
   "metadata": {},
   "source": [
    "# Project name:Used car price prediction"
   ]
  },
  {
   "cell_type": "markdown",
   "id": "c780a71d",
   "metadata": {},
   "source": [
    "# Problem statement:\n",
    "With the covid 19 impact in the market, we have seen lot of changes in the car market. Now some cars are in demand hence making them costly and some are not in demand hence cheaper. One of our clients works with small traders, who sell used cars. With the change in market due to covid 19 impact, our client is facing problems with their previous car price valuation machine learning models. So, they are looking for new machine learning models from new data. We have to make car price valuation model. This project contains two phase-\n",
    "\n",
    "Data Collection Phase:\n",
    "     You have to scrape at least 5000 used cars data. You can scrape more data as well, it’s up to you. more the data better the model\n",
    "      In this section You need to scrape the data of used cars from websites (Olx, cardekho, Cars24 etc.) You need web scraping for this. You have to fetch data for different locations. The number of\n",
    "columns for data doesn’t have limit, it’s up to you and your creativity. Generally, these columns are Brand, model, variant, manufacturing year, driven kilometers, fuel, number of owners, location and at last target variable Price of the car. This data is to give you a hint about important variables in used car model. You can make changes to it, you can add or you can remove some columns, it completely depends on the website from which you are fetching the data.\n",
    "Try to include all types of cars in your data for example- SUV, Sedans, Coupe, minivan, Hatchback."
   ]
  },
  {
   "cell_type": "code",
   "execution_count": null,
   "id": "e33dd33e",
   "metadata": {},
   "outputs": [],
   "source": [
    "#Importing necessary libraries"
   ]
  },
  {
   "cell_type": "code",
   "execution_count": 5,
   "id": "fea36619",
   "metadata": {},
   "outputs": [],
   "source": [
    "import warnings\n",
    "warnings.simplefilter(\"ignore\")\n",
    "warnings.filterwarnings(\"ignore\")\n",
    "import joblib\n",
    "\n",
    "import pandas as pd\n",
    "import numpy as np\n",
    "import seaborn as sns\n",
    "import matplotlib.pyplot as plt\n",
    "%matplotlib inline\n",
    "\n",
    "from sklearn import metrics\n",
    "from scipy.stats import zscore\n",
    "from sklearn.preprocessing import OrdinalEncoder\n",
    "from sklearn.preprocessing import StandardScaler\n",
    "from sklearn.model_selection import train_test_split\n",
    "\n",
    "from sklearn.linear_model import LinearRegression, Ridge, Lasso\n",
    "from sklearn.svm import SVR\n",
    "from sklearn.tree import DecisionTreeRegressor\n",
    "from sklearn.ensemble import RandomForestRegressor\n",
    "from sklearn.neighbors import KNeighborsRegressor\n",
    "from sklearn.ensemble import AdaBoostRegressor\n",
    "from sklearn.ensemble import ExtraTreesRegressor\n",
    "from sklearn.ensemble import GradientBoostingRegressor\n",
    "\n",
    "from sklearn.metrics import r2_score\n",
    "from sklearn.metrics import mean_squared_error\n",
    "from sklearn.model_selection import cross_val_score\n",
    "from sklearn.model_selection import GridSearchCV"
   ]
  },
  {
   "cell_type": "code",
   "execution_count": 3,
   "id": "fee1dbfa",
   "metadata": {},
   "outputs": [],
   "source": [
    "df = pd.read_csv(r'C:\\Users\\Praveen kumar\\OneDrive\\Desktop\\Used_Cars.csv')"
   ]
  },
  {
   "cell_type": "code",
   "execution_count": 8,
   "id": "4b40b2a5",
   "metadata": {},
   "outputs": [
    {
     "data": {
      "text/html": [
       "<div>\n",
       "<style scoped>\n",
       "    .dataframe tbody tr th:only-of-type {\n",
       "        vertical-align: middle;\n",
       "    }\n",
       "\n",
       "    .dataframe tbody tr th {\n",
       "        vertical-align: top;\n",
       "    }\n",
       "\n",
       "    .dataframe thead th {\n",
       "        text-align: right;\n",
       "    }\n",
       "</style>\n",
       "<table border=\"1\" class=\"dataframe\">\n",
       "  <thead>\n",
       "    <tr style=\"text-align: right;\">\n",
       "      <th></th>\n",
       "      <th>Used Car Model</th>\n",
       "      <th>Year of Manufacture</th>\n",
       "      <th>Kilometers Driven</th>\n",
       "      <th>Fuel Type</th>\n",
       "      <th>Transmission Type</th>\n",
       "      <th>Used Car Price</th>\n",
       "    </tr>\n",
       "  </thead>\n",
       "  <tbody>\n",
       "    <tr>\n",
       "      <th>0</th>\n",
       "      <td>Hyundai</td>\n",
       "      <td>2017</td>\n",
       "      <td>2,200 km</td>\n",
       "      <td>Petrol</td>\n",
       "      <td>Manual</td>\n",
       "      <td>5,25,000</td>\n",
       "    </tr>\n",
       "    <tr>\n",
       "      <th>1</th>\n",
       "      <td>Hyundai</td>\n",
       "      <td>2013</td>\n",
       "      <td>91,500 km</td>\n",
       "      <td>Diesel</td>\n",
       "      <td>Manual</td>\n",
       "      <td>5,95,000</td>\n",
       "    </tr>\n",
       "    <tr>\n",
       "      <th>2</th>\n",
       "      <td>Ford</td>\n",
       "      <td>2017</td>\n",
       "      <td>36,000 km</td>\n",
       "      <td>Diesel</td>\n",
       "      <td>Manual</td>\n",
       "      <td>7,75,000</td>\n",
       "    </tr>\n",
       "    <tr>\n",
       "      <th>3</th>\n",
       "      <td>Honda</td>\n",
       "      <td>2015</td>\n",
       "      <td>90,000 km</td>\n",
       "      <td>Diesel</td>\n",
       "      <td>Manual</td>\n",
       "      <td>4,00,000</td>\n",
       "    </tr>\n",
       "    <tr>\n",
       "      <th>4</th>\n",
       "      <td>Maruti Suzuki</td>\n",
       "      <td>2010</td>\n",
       "      <td>40,000 km</td>\n",
       "      <td>Petrol</td>\n",
       "      <td>Manual</td>\n",
       "      <td>2,30,000</td>\n",
       "    </tr>\n",
       "    <tr>\n",
       "      <th>...</th>\n",
       "      <td>...</td>\n",
       "      <td>...</td>\n",
       "      <td>...</td>\n",
       "      <td>...</td>\n",
       "      <td>...</td>\n",
       "      <td>...</td>\n",
       "    </tr>\n",
       "    <tr>\n",
       "      <th>9995</th>\n",
       "      <td>Hyundai</td>\n",
       "      <td>2012</td>\n",
       "      <td>65,000 km</td>\n",
       "      <td>Petrol</td>\n",
       "      <td>Manual</td>\n",
       "      <td>3,25,000</td>\n",
       "    </tr>\n",
       "    <tr>\n",
       "      <th>9996</th>\n",
       "      <td>Maruti Suzuki</td>\n",
       "      <td>2018</td>\n",
       "      <td>85,000 km</td>\n",
       "      <td>CNG &amp; Hybrids</td>\n",
       "      <td>Manual</td>\n",
       "      <td>2,90,000</td>\n",
       "    </tr>\n",
       "    <tr>\n",
       "      <th>9997</th>\n",
       "      <td>Maruti Suzuki</td>\n",
       "      <td>2010</td>\n",
       "      <td>72,000 km</td>\n",
       "      <td>Petrol</td>\n",
       "      <td>Manual</td>\n",
       "      <td>3,20,000</td>\n",
       "    </tr>\n",
       "    <tr>\n",
       "      <th>9998</th>\n",
       "      <td>Tata</td>\n",
       "      <td>2012</td>\n",
       "      <td>70,000 km</td>\n",
       "      <td>Diesel</td>\n",
       "      <td>Manual</td>\n",
       "      <td>1,85,000</td>\n",
       "    </tr>\n",
       "    <tr>\n",
       "      <th>9999</th>\n",
       "      <td>Ford</td>\n",
       "      <td>2018</td>\n",
       "      <td>53,764 km</td>\n",
       "      <td>Diesel</td>\n",
       "      <td>Manual</td>\n",
       "      <td>8,75,000</td>\n",
       "    </tr>\n",
       "  </tbody>\n",
       "</table>\n",
       "<p>10000 rows × 6 columns</p>\n",
       "</div>"
      ],
      "text/plain": [
       "     Used Car Model Year of Manufacture Kilometers Driven      Fuel Type  \\\n",
       "0           Hyundai                2017          2,200 km         Petrol   \n",
       "1           Hyundai                2013         91,500 km         Diesel   \n",
       "2              Ford                2017         36,000 km         Diesel   \n",
       "3             Honda                2015         90,000 km         Diesel   \n",
       "4     Maruti Suzuki                2010         40,000 km         Petrol   \n",
       "...             ...                 ...               ...            ...   \n",
       "9995        Hyundai                2012         65,000 km         Petrol   \n",
       "9996  Maruti Suzuki                2018         85,000 km  CNG & Hybrids   \n",
       "9997  Maruti Suzuki                2010         72,000 km         Petrol   \n",
       "9998           Tata                2012         70,000 km         Diesel   \n",
       "9999           Ford                2018         53,764 km         Diesel   \n",
       "\n",
       "     Transmission Type Used Car Price  \n",
       "0               Manual       5,25,000  \n",
       "1               Manual       5,95,000  \n",
       "2               Manual       7,75,000  \n",
       "3               Manual       4,00,000  \n",
       "4               Manual       2,30,000  \n",
       "...                ...            ...  \n",
       "9995            Manual       3,25,000  \n",
       "9996            Manual       2,90,000  \n",
       "9997            Manual       3,20,000  \n",
       "9998            Manual       1,85,000  \n",
       "9999            Manual       8,75,000  \n",
       "\n",
       "[10000 rows x 6 columns]"
      ]
     },
     "execution_count": 8,
     "metadata": {},
     "output_type": "execute_result"
    }
   ],
   "source": [
    "df"
   ]
  },
  {
   "cell_type": "markdown",
   "id": "f7facfe5",
   "metadata": {},
   "source": [
    "Here we are taking a look at the first 5 and last 5 rows of our dataset. It shows that we have a total of 10000 rows and 6 columns present in our dataframe. In the above cell we can see our dataset includes a target label \"Used Car Price\" column and the remaining feature columns can be used to determine or help in predicting the price of the used cars. Since price is a continous value it makes this to be a Regression problem!"
   ]
  },
  {
   "cell_type": "markdown",
   "id": "b13da44d",
   "metadata": {},
   "source": [
    "# Exploratory Data Analysis (EDA)"
   ]
  },
  {
   "cell_type": "code",
   "execution_count": 7,
   "id": "da50fc09",
   "metadata": {},
   "outputs": [
    {
     "name": "stdout",
     "output_type": "stream",
     "text": [
      "We have 10000 Rows and 6 Columns in our dataframe\n"
     ]
    },
    {
     "data": {
      "text/html": [
       "<div>\n",
       "<style scoped>\n",
       "    .dataframe tbody tr th:only-of-type {\n",
       "        vertical-align: middle;\n",
       "    }\n",
       "\n",
       "    .dataframe tbody tr th {\n",
       "        vertical-align: top;\n",
       "    }\n",
       "\n",
       "    .dataframe thead th {\n",
       "        text-align: right;\n",
       "    }\n",
       "</style>\n",
       "<table border=\"1\" class=\"dataframe\">\n",
       "  <thead>\n",
       "    <tr style=\"text-align: right;\">\n",
       "      <th></th>\n",
       "      <th>Used Car Model</th>\n",
       "      <th>Year of Manufacture</th>\n",
       "      <th>Kilometers Driven</th>\n",
       "      <th>Fuel Type</th>\n",
       "      <th>Transmission Type</th>\n",
       "      <th>Used Car Price</th>\n",
       "    </tr>\n",
       "  </thead>\n",
       "  <tbody>\n",
       "    <tr>\n",
       "      <th>0</th>\n",
       "      <td>Hyundai</td>\n",
       "      <td>2017</td>\n",
       "      <td>2,200 km</td>\n",
       "      <td>Petrol</td>\n",
       "      <td>Manual</td>\n",
       "      <td>5,25,000</td>\n",
       "    </tr>\n",
       "    <tr>\n",
       "      <th>1</th>\n",
       "      <td>Hyundai</td>\n",
       "      <td>2013</td>\n",
       "      <td>91,500 km</td>\n",
       "      <td>Diesel</td>\n",
       "      <td>Manual</td>\n",
       "      <td>5,95,000</td>\n",
       "    </tr>\n",
       "    <tr>\n",
       "      <th>2</th>\n",
       "      <td>Ford</td>\n",
       "      <td>2017</td>\n",
       "      <td>36,000 km</td>\n",
       "      <td>Diesel</td>\n",
       "      <td>Manual</td>\n",
       "      <td>7,75,000</td>\n",
       "    </tr>\n",
       "    <tr>\n",
       "      <th>3</th>\n",
       "      <td>Honda</td>\n",
       "      <td>2015</td>\n",
       "      <td>90,000 km</td>\n",
       "      <td>Diesel</td>\n",
       "      <td>Manual</td>\n",
       "      <td>4,00,000</td>\n",
       "    </tr>\n",
       "    <tr>\n",
       "      <th>4</th>\n",
       "      <td>Maruti Suzuki</td>\n",
       "      <td>2010</td>\n",
       "      <td>40,000 km</td>\n",
       "      <td>Petrol</td>\n",
       "      <td>Manual</td>\n",
       "      <td>2,30,000</td>\n",
       "    </tr>\n",
       "  </tbody>\n",
       "</table>\n",
       "</div>"
      ],
      "text/plain": [
       "  Used Car Model Year of Manufacture Kilometers Driven Fuel Type  \\\n",
       "0        Hyundai                2017          2,200 km    Petrol   \n",
       "1        Hyundai                2013         91,500 km    Diesel   \n",
       "2           Ford                2017         36,000 km    Diesel   \n",
       "3          Honda                2015         90,000 km    Diesel   \n",
       "4  Maruti Suzuki                2010         40,000 km    Petrol   \n",
       "\n",
       "  Transmission Type Used Car Price  \n",
       "0            Manual       5,25,000  \n",
       "1            Manual       5,95,000  \n",
       "2            Manual       7,75,000  \n",
       "3            Manual       4,00,000  \n",
       "4            Manual       2,30,000  "
      ]
     },
     "execution_count": 7,
     "metadata": {},
     "output_type": "execute_result"
    }
   ],
   "source": [
    "print(\"We have {} Rows and {} Columns in our dataframe\".format(df.shape[0], df.shape[1]))\n",
    "df.head()"
   ]
  },
  {
   "cell_type": "markdown",
   "id": "a0a929cf",
   "metadata": {},
   "source": [
    "Column Description:\n",
    "\n",
    "Used Car Model - This shows the car model names\n",
    "Year of Manufacture - Gives us the year in which the car was made\n",
    "Kilometers Driven - Number of kilometers the car the driven reflecting on the Odometer\n",
    "Fuel Type - Shows the fuel type used by the vehicle\n",
    "Transmission Type - Gives us the manual or automatic gear shifting mechanism\n",
    "Used Car Price - Lists the selling price of the used cars"
   ]
  },
  {
   "cell_type": "code",
   "execution_count": 9,
   "id": "9fd5fc4e",
   "metadata": {},
   "outputs": [
    {
     "data": {
      "text/plain": [
       "Used Car Model         0\n",
       "Year of Manufacture    0\n",
       "Kilometers Driven      0\n",
       "Fuel Type              0\n",
       "Transmission Type      0\n",
       "Used Car Price         0\n",
       "dtype: int64"
      ]
     },
     "execution_count": 9,
     "metadata": {},
     "output_type": "execute_result"
    }
   ],
   "source": [
    "df.isna().sum() # checking for missing values"
   ]
  },
  {
   "cell_type": "markdown",
   "id": "a53959b4",
   "metadata": {},
   "source": [
    " we have no missing values therefore we won't have to worry about handling missing data. However we do have records with \"-\" in them which will need to be dealt with."
   ]
  },
  {
   "cell_type": "code",
   "execution_count": 10,
   "id": "dcdb8e24",
   "metadata": {},
   "outputs": [
    {
     "name": "stdout",
     "output_type": "stream",
     "text": [
      "<class 'pandas.core.frame.DataFrame'>\n",
      "RangeIndex: 10000 entries, 0 to 9999\n",
      "Data columns (total 6 columns):\n",
      " #   Column               Non-Null Count  Dtype \n",
      "---  ------               --------------  ----- \n",
      " 0   Used Car Model       10000 non-null  object\n",
      " 1   Year of Manufacture  10000 non-null  object\n",
      " 2   Kilometers Driven    10000 non-null  object\n",
      " 3   Fuel Type            10000 non-null  object\n",
      " 4   Transmission Type    10000 non-null  object\n",
      " 5   Used Car Price       10000 non-null  object\n",
      "dtypes: object(6)\n",
      "memory usage: 468.9+ KB\n"
     ]
    }
   ],
   "source": [
    "df.info()"
   ]
  },
  {
   "cell_type": "code",
   "execution_count": 11,
   "id": "7b754feb",
   "metadata": {},
   "outputs": [
    {
     "data": {
      "text/html": [
       "<div>\n",
       "<style scoped>\n",
       "    .dataframe tbody tr th:only-of-type {\n",
       "        vertical-align: middle;\n",
       "    }\n",
       "\n",
       "    .dataframe tbody tr th {\n",
       "        vertical-align: top;\n",
       "    }\n",
       "\n",
       "    .dataframe thead th {\n",
       "        text-align: right;\n",
       "    }\n",
       "</style>\n",
       "<table border=\"1\" class=\"dataframe\">\n",
       "  <thead>\n",
       "    <tr style=\"text-align: right;\">\n",
       "      <th></th>\n",
       "      <th>Unique Values</th>\n",
       "    </tr>\n",
       "  </thead>\n",
       "  <tbody>\n",
       "    <tr>\n",
       "      <th>Transmission Type</th>\n",
       "      <td>3</td>\n",
       "    </tr>\n",
       "    <tr>\n",
       "      <th>Fuel Type</th>\n",
       "      <td>6</td>\n",
       "    </tr>\n",
       "    <tr>\n",
       "      <th>Year of Manufacture</th>\n",
       "      <td>31</td>\n",
       "    </tr>\n",
       "    <tr>\n",
       "      <th>Used Car Price</th>\n",
       "      <td>940</td>\n",
       "    </tr>\n",
       "    <tr>\n",
       "      <th>Kilometers Driven</th>\n",
       "      <td>1094</td>\n",
       "    </tr>\n",
       "    <tr>\n",
       "      <th>Used Car Model</th>\n",
       "      <td>2056</td>\n",
       "    </tr>\n",
       "  </tbody>\n",
       "</table>\n",
       "</div>"
      ],
      "text/plain": [
       "                     Unique Values\n",
       "Transmission Type                3\n",
       "Fuel Type                        6\n",
       "Year of Manufacture             31\n",
       "Used Car Price                 940\n",
       "Kilometers Driven             1094\n",
       "Used Car Model                2056"
      ]
     },
     "execution_count": 11,
     "metadata": {},
     "output_type": "execute_result"
    }
   ],
   "source": [
    "df.nunique().sort_values().to_frame(\"Unique Values\")"
   ]
  },
  {
   "cell_type": "markdown",
   "id": "27c34330",
   "metadata": {},
   "source": [
    "With the help of nunique and sort_values methods we can see the number of unique values present in each of the columns in our dataset."
   ]
  },
  {
   "cell_type": "code",
   "execution_count": 12,
   "id": "064b7328",
   "metadata": {},
   "outputs": [
    {
     "name": "stdout",
     "output_type": "stream",
     "text": [
      "Transmission Type\n",
      "Manual       8408\n",
      "Automatic    1402\n",
      "-             190\n",
      "Name: Transmission Type, dtype: int64\n",
      "========================================================================================================================\n",
      "Fuel Type\n",
      "Diesel           5345\n",
      "Petrol           4386\n",
      "CNG & Hybrids     108\n",
      "CNG                57\n",
      "-                  56\n",
      "LPG                48\n",
      "Name: Fuel Type, dtype: int64\n",
      "========================================================================================================================\n",
      "Year of Manufacture\n",
      "2017    1099\n",
      "2016    1021\n",
      "2018     983\n",
      "2015     975\n",
      "2012     844\n",
      "2013     802\n",
      "2014     798\n",
      "2011     733\n",
      "2019     642\n",
      "2010     519\n",
      "2009     366\n",
      "2008     300\n",
      "2007     207\n",
      "2006     148\n",
      "2020     132\n",
      "2005     112\n",
      "2004      71\n",
      "2003      55\n",
      "2002      45\n",
      "-         44\n",
      "1999      24\n",
      "2000      24\n",
      "2001      16\n",
      "1997      11\n",
      "2021      10\n",
      "1998       9\n",
      "1996       3\n",
      "1994       3\n",
      "1995       2\n",
      "1983       1\n",
      "1991       1\n",
      "Name: Year of Manufacture, dtype: int64\n",
      "========================================================================================================================\n"
     ]
    }
   ],
   "source": [
    "value = [\"Transmission Type\", \"Fuel Type\", \"Year of Manufacture\"]\n",
    "for col in value:\n",
    "    print(col)\n",
    "    print(df[col].value_counts())\n",
    "    print(\"=\"*120)"
   ]
  },
  {
   "cell_type": "markdown",
   "id": "6b97695a",
   "metadata": {},
   "source": [
    "# Data pre-processing"
   ]
  },
  {
   "cell_type": "code",
   "execution_count": 13,
   "id": "e8bafcb6",
   "metadata": {},
   "outputs": [
    {
     "data": {
      "text/html": [
       "<div>\n",
       "<style scoped>\n",
       "    .dataframe tbody tr th:only-of-type {\n",
       "        vertical-align: middle;\n",
       "    }\n",
       "\n",
       "    .dataframe tbody tr th {\n",
       "        vertical-align: top;\n",
       "    }\n",
       "\n",
       "    .dataframe thead th {\n",
       "        text-align: right;\n",
       "    }\n",
       "</style>\n",
       "<table border=\"1\" class=\"dataframe\">\n",
       "  <thead>\n",
       "    <tr style=\"text-align: right;\">\n",
       "      <th></th>\n",
       "      <th>Used Car Model</th>\n",
       "      <th>Year of Manufacture</th>\n",
       "      <th>Kilometers Driven</th>\n",
       "      <th>Fuel Type</th>\n",
       "      <th>Transmission Type</th>\n",
       "      <th>Used Car Price</th>\n",
       "    </tr>\n",
       "  </thead>\n",
       "  <tbody>\n",
       "    <tr>\n",
       "      <th>0</th>\n",
       "      <td>Hyundai</td>\n",
       "      <td>2017</td>\n",
       "      <td>2200</td>\n",
       "      <td>Petrol</td>\n",
       "      <td>Manual</td>\n",
       "      <td>5,25,000</td>\n",
       "    </tr>\n",
       "    <tr>\n",
       "      <th>1</th>\n",
       "      <td>Hyundai</td>\n",
       "      <td>2013</td>\n",
       "      <td>91500</td>\n",
       "      <td>Diesel</td>\n",
       "      <td>Manual</td>\n",
       "      <td>5,95,000</td>\n",
       "    </tr>\n",
       "    <tr>\n",
       "      <th>2</th>\n",
       "      <td>Ford</td>\n",
       "      <td>2017</td>\n",
       "      <td>36000</td>\n",
       "      <td>Diesel</td>\n",
       "      <td>Manual</td>\n",
       "      <td>7,75,000</td>\n",
       "    </tr>\n",
       "    <tr>\n",
       "      <th>3</th>\n",
       "      <td>Honda</td>\n",
       "      <td>2015</td>\n",
       "      <td>90000</td>\n",
       "      <td>Diesel</td>\n",
       "      <td>Manual</td>\n",
       "      <td>4,00,000</td>\n",
       "    </tr>\n",
       "    <tr>\n",
       "      <th>4</th>\n",
       "      <td>Maruti Suzuki</td>\n",
       "      <td>2010</td>\n",
       "      <td>40000</td>\n",
       "      <td>Petrol</td>\n",
       "      <td>Manual</td>\n",
       "      <td>2,30,000</td>\n",
       "    </tr>\n",
       "    <tr>\n",
       "      <th>...</th>\n",
       "      <td>...</td>\n",
       "      <td>...</td>\n",
       "      <td>...</td>\n",
       "      <td>...</td>\n",
       "      <td>...</td>\n",
       "      <td>...</td>\n",
       "    </tr>\n",
       "    <tr>\n",
       "      <th>9995</th>\n",
       "      <td>Hyundai</td>\n",
       "      <td>2012</td>\n",
       "      <td>65000</td>\n",
       "      <td>Petrol</td>\n",
       "      <td>Manual</td>\n",
       "      <td>3,25,000</td>\n",
       "    </tr>\n",
       "    <tr>\n",
       "      <th>9996</th>\n",
       "      <td>Maruti Suzuki</td>\n",
       "      <td>2018</td>\n",
       "      <td>85000</td>\n",
       "      <td>CNG &amp; Hybrids</td>\n",
       "      <td>Manual</td>\n",
       "      <td>2,90,000</td>\n",
       "    </tr>\n",
       "    <tr>\n",
       "      <th>9997</th>\n",
       "      <td>Maruti Suzuki</td>\n",
       "      <td>2010</td>\n",
       "      <td>72000</td>\n",
       "      <td>Petrol</td>\n",
       "      <td>Manual</td>\n",
       "      <td>3,20,000</td>\n",
       "    </tr>\n",
       "    <tr>\n",
       "      <th>9998</th>\n",
       "      <td>Tata</td>\n",
       "      <td>2012</td>\n",
       "      <td>70000</td>\n",
       "      <td>Diesel</td>\n",
       "      <td>Manual</td>\n",
       "      <td>1,85,000</td>\n",
       "    </tr>\n",
       "    <tr>\n",
       "      <th>9999</th>\n",
       "      <td>Ford</td>\n",
       "      <td>2018</td>\n",
       "      <td>53764</td>\n",
       "      <td>Diesel</td>\n",
       "      <td>Manual</td>\n",
       "      <td>8,75,000</td>\n",
       "    </tr>\n",
       "  </tbody>\n",
       "</table>\n",
       "<p>10000 rows × 6 columns</p>\n",
       "</div>"
      ],
      "text/plain": [
       "     Used Car Model Year of Manufacture  Kilometers Driven      Fuel Type  \\\n",
       "0           Hyundai                2017               2200         Petrol   \n",
       "1           Hyundai                2013              91500         Diesel   \n",
       "2              Ford                2017              36000         Diesel   \n",
       "3             Honda                2015              90000         Diesel   \n",
       "4     Maruti Suzuki                2010              40000         Petrol   \n",
       "...             ...                 ...                ...            ...   \n",
       "9995        Hyundai                2012              65000         Petrol   \n",
       "9996  Maruti Suzuki                2018              85000  CNG & Hybrids   \n",
       "9997  Maruti Suzuki                2010              72000         Petrol   \n",
       "9998           Tata                2012              70000         Diesel   \n",
       "9999           Ford                2018              53764         Diesel   \n",
       "\n",
       "     Transmission Type Used Car Price  \n",
       "0               Manual       5,25,000  \n",
       "1               Manual       5,95,000  \n",
       "2               Manual       7,75,000  \n",
       "3               Manual       4,00,000  \n",
       "4               Manual       2,30,000  \n",
       "...                ...            ...  \n",
       "9995            Manual       3,25,000  \n",
       "9996            Manual       2,90,000  \n",
       "9997            Manual       3,20,000  \n",
       "9998            Manual       1,85,000  \n",
       "9999            Manual       8,75,000  \n",
       "\n",
       "[10000 rows x 6 columns]"
      ]
     },
     "execution_count": 13,
     "metadata": {},
     "output_type": "execute_result"
    }
   ],
   "source": [
    "# Data pre processing\n",
    "\n",
    "df[\"Kilometers Driven\"]=df[\"Kilometers Driven\"].apply(lambda x: x.replace(',','') if x!='-' else '-')\n",
    "df[\"Kilometers Driven\"]=df[\"Kilometers Driven\"].apply(lambda x: int(x.split(' ')[0]) if x!='-' else 0)\n",
    "df"
   ]
  },
  {
   "cell_type": "markdown",
   "id": "61237034",
   "metadata": {},
   "source": [
    "The Kilometers Driven column had \"-\" values plus km extentions that needed to be fixed and changed to the actual numeric data."
   ]
  },
  {
   "cell_type": "code",
   "execution_count": 14,
   "id": "30faeb08",
   "metadata": {},
   "outputs": [],
   "source": [
    "try:\n",
    "    df[\"Used Car Price\"]=df[\"Used Car Price\"].apply(lambda x: x.split(' ')[1] if x!='-' else '0,0')\n",
    "except IndexError:\n",
    "    pass\n",
    "\n",
    "try:\n",
    "    df[\"Used Car Price\"]=df[\"Used Car Price\"].apply(lambda x: str(x.replace(',', '')))\n",
    "except ValueError:\n",
    "    pass\n"
   ]
  },
  {
   "cell_type": "code",
   "execution_count": 15,
   "id": "7001e70c",
   "metadata": {},
   "outputs": [],
   "source": [
    "df[\"Used Car Price\"]=df[\"Used Car Price\"].str.strip() # removing extra white space from the column records\n",
    "df[\"Used Car Price\"]=pd.to_numeric(df[\"Used Car Price\"].str.replace('-','0'), errors='coerce')\n",
    "df[\"Used Car Price\"]=df[\"Used Car Price\"].astype(float) # converting object to float data type"
   ]
  },
  {
   "cell_type": "code",
   "execution_count": 16,
   "id": "1dd192e6",
   "metadata": {},
   "outputs": [
    {
     "data": {
      "text/html": [
       "<div>\n",
       "<style scoped>\n",
       "    .dataframe tbody tr th:only-of-type {\n",
       "        vertical-align: middle;\n",
       "    }\n",
       "\n",
       "    .dataframe tbody tr th {\n",
       "        vertical-align: top;\n",
       "    }\n",
       "\n",
       "    .dataframe thead th {\n",
       "        text-align: right;\n",
       "    }\n",
       "</style>\n",
       "<table border=\"1\" class=\"dataframe\">\n",
       "  <thead>\n",
       "    <tr style=\"text-align: right;\">\n",
       "      <th></th>\n",
       "      <th>Used Car Model</th>\n",
       "      <th>Year of Manufacture</th>\n",
       "      <th>Kilometers Driven</th>\n",
       "      <th>Fuel Type</th>\n",
       "      <th>Transmission Type</th>\n",
       "      <th>Used Car Price</th>\n",
       "    </tr>\n",
       "  </thead>\n",
       "  <tbody>\n",
       "    <tr>\n",
       "      <th>0</th>\n",
       "      <td>Hyundai</td>\n",
       "      <td>2017</td>\n",
       "      <td>2200</td>\n",
       "      <td>Petrol</td>\n",
       "      <td>Manual</td>\n",
       "      <td>525000.0</td>\n",
       "    </tr>\n",
       "    <tr>\n",
       "      <th>1</th>\n",
       "      <td>Hyundai</td>\n",
       "      <td>2013</td>\n",
       "      <td>91500</td>\n",
       "      <td>Diesel</td>\n",
       "      <td>Manual</td>\n",
       "      <td>595000.0</td>\n",
       "    </tr>\n",
       "    <tr>\n",
       "      <th>2</th>\n",
       "      <td>Ford</td>\n",
       "      <td>2017</td>\n",
       "      <td>36000</td>\n",
       "      <td>Diesel</td>\n",
       "      <td>Manual</td>\n",
       "      <td>775000.0</td>\n",
       "    </tr>\n",
       "    <tr>\n",
       "      <th>3</th>\n",
       "      <td>Honda</td>\n",
       "      <td>2015</td>\n",
       "      <td>90000</td>\n",
       "      <td>Diesel</td>\n",
       "      <td>Manual</td>\n",
       "      <td>400000.0</td>\n",
       "    </tr>\n",
       "    <tr>\n",
       "      <th>4</th>\n",
       "      <td>Maruti Suzuki</td>\n",
       "      <td>2010</td>\n",
       "      <td>40000</td>\n",
       "      <td>Petrol</td>\n",
       "      <td>Manual</td>\n",
       "      <td>230000.0</td>\n",
       "    </tr>\n",
       "    <tr>\n",
       "      <th>...</th>\n",
       "      <td>...</td>\n",
       "      <td>...</td>\n",
       "      <td>...</td>\n",
       "      <td>...</td>\n",
       "      <td>...</td>\n",
       "      <td>...</td>\n",
       "    </tr>\n",
       "    <tr>\n",
       "      <th>9995</th>\n",
       "      <td>Hyundai</td>\n",
       "      <td>2012</td>\n",
       "      <td>65000</td>\n",
       "      <td>Petrol</td>\n",
       "      <td>Manual</td>\n",
       "      <td>325000.0</td>\n",
       "    </tr>\n",
       "    <tr>\n",
       "      <th>9996</th>\n",
       "      <td>Maruti Suzuki</td>\n",
       "      <td>2018</td>\n",
       "      <td>85000</td>\n",
       "      <td>CNG &amp; Hybrids</td>\n",
       "      <td>Manual</td>\n",
       "      <td>290000.0</td>\n",
       "    </tr>\n",
       "    <tr>\n",
       "      <th>9997</th>\n",
       "      <td>Maruti Suzuki</td>\n",
       "      <td>2010</td>\n",
       "      <td>72000</td>\n",
       "      <td>Petrol</td>\n",
       "      <td>Manual</td>\n",
       "      <td>320000.0</td>\n",
       "    </tr>\n",
       "    <tr>\n",
       "      <th>9998</th>\n",
       "      <td>Tata</td>\n",
       "      <td>2012</td>\n",
       "      <td>70000</td>\n",
       "      <td>Diesel</td>\n",
       "      <td>Manual</td>\n",
       "      <td>185000.0</td>\n",
       "    </tr>\n",
       "    <tr>\n",
       "      <th>9999</th>\n",
       "      <td>Ford</td>\n",
       "      <td>2018</td>\n",
       "      <td>53764</td>\n",
       "      <td>Diesel</td>\n",
       "      <td>Manual</td>\n",
       "      <td>875000.0</td>\n",
       "    </tr>\n",
       "  </tbody>\n",
       "</table>\n",
       "<p>10000 rows × 6 columns</p>\n",
       "</div>"
      ],
      "text/plain": [
       "     Used Car Model Year of Manufacture  Kilometers Driven      Fuel Type  \\\n",
       "0           Hyundai                2017               2200         Petrol   \n",
       "1           Hyundai                2013              91500         Diesel   \n",
       "2              Ford                2017              36000         Diesel   \n",
       "3             Honda                2015              90000         Diesel   \n",
       "4     Maruti Suzuki                2010              40000         Petrol   \n",
       "...             ...                 ...                ...            ...   \n",
       "9995        Hyundai                2012              65000         Petrol   \n",
       "9996  Maruti Suzuki                2018              85000  CNG & Hybrids   \n",
       "9997  Maruti Suzuki                2010              72000         Petrol   \n",
       "9998           Tata                2012              70000         Diesel   \n",
       "9999           Ford                2018              53764         Diesel   \n",
       "\n",
       "     Transmission Type  Used Car Price  \n",
       "0               Manual        525000.0  \n",
       "1               Manual        595000.0  \n",
       "2               Manual        775000.0  \n",
       "3               Manual        400000.0  \n",
       "4               Manual        230000.0  \n",
       "...                ...             ...  \n",
       "9995            Manual        325000.0  \n",
       "9996            Manual        290000.0  \n",
       "9997            Manual        320000.0  \n",
       "9998            Manual        185000.0  \n",
       "9999            Manual        875000.0  \n",
       "\n",
       "[10000 rows x 6 columns]"
      ]
     },
     "execution_count": 16,
     "metadata": {},
     "output_type": "execute_result"
    }
   ],
   "source": [
    "df"
   ]
  },
  {
   "cell_type": "markdown",
   "id": "06674842",
   "metadata": {},
   "source": [
    "Our target label contained price values but was stored as object datatype therefore we first ensured that it is changed to proper numeric data and then converted to float data type."
   ]
  },
  {
   "cell_type": "code",
   "execution_count": 17,
   "id": "5cf1a42a",
   "metadata": {},
   "outputs": [],
   "source": [
    "df[\"Year of Manufacture\"]=df[\"Year of Manufacture\"].apply(lambda x: int(x.strip()[0:4]) if x!='-' else 0)\n",
    "median_val_year=df[\"Year of Manufacture\"].median()\n",
    "df[\"Year of Manufacture\"]=df[\"Year of Manufacture\"].apply(lambda x: x if x!=0 else median_val_year)\n",
    "df[\"Year of Manufacture\"]=df[\"Year of Manufacture\"].astype(int)"
   ]
  },
  {
   "cell_type": "code",
   "execution_count": 18,
   "id": "5701a036",
   "metadata": {},
   "outputs": [
    {
     "data": {
      "text/html": [
       "<div>\n",
       "<style scoped>\n",
       "    .dataframe tbody tr th:only-of-type {\n",
       "        vertical-align: middle;\n",
       "    }\n",
       "\n",
       "    .dataframe tbody tr th {\n",
       "        vertical-align: top;\n",
       "    }\n",
       "\n",
       "    .dataframe thead th {\n",
       "        text-align: right;\n",
       "    }\n",
       "</style>\n",
       "<table border=\"1\" class=\"dataframe\">\n",
       "  <thead>\n",
       "    <tr style=\"text-align: right;\">\n",
       "      <th></th>\n",
       "      <th>Used Car Model</th>\n",
       "      <th>Year of Manufacture</th>\n",
       "      <th>Kilometers Driven</th>\n",
       "      <th>Fuel Type</th>\n",
       "      <th>Transmission Type</th>\n",
       "      <th>Used Car Price</th>\n",
       "    </tr>\n",
       "  </thead>\n",
       "  <tbody>\n",
       "    <tr>\n",
       "      <th>0</th>\n",
       "      <td>Hyundai</td>\n",
       "      <td>2017</td>\n",
       "      <td>2200</td>\n",
       "      <td>Petrol</td>\n",
       "      <td>Manual</td>\n",
       "      <td>525000.0</td>\n",
       "    </tr>\n",
       "    <tr>\n",
       "      <th>1</th>\n",
       "      <td>Hyundai</td>\n",
       "      <td>2013</td>\n",
       "      <td>91500</td>\n",
       "      <td>Diesel</td>\n",
       "      <td>Manual</td>\n",
       "      <td>595000.0</td>\n",
       "    </tr>\n",
       "    <tr>\n",
       "      <th>2</th>\n",
       "      <td>Ford</td>\n",
       "      <td>2017</td>\n",
       "      <td>36000</td>\n",
       "      <td>Diesel</td>\n",
       "      <td>Manual</td>\n",
       "      <td>775000.0</td>\n",
       "    </tr>\n",
       "    <tr>\n",
       "      <th>3</th>\n",
       "      <td>Honda</td>\n",
       "      <td>2015</td>\n",
       "      <td>90000</td>\n",
       "      <td>Diesel</td>\n",
       "      <td>Manual</td>\n",
       "      <td>400000.0</td>\n",
       "    </tr>\n",
       "    <tr>\n",
       "      <th>4</th>\n",
       "      <td>Maruti Suzuki</td>\n",
       "      <td>2010</td>\n",
       "      <td>40000</td>\n",
       "      <td>Petrol</td>\n",
       "      <td>Manual</td>\n",
       "      <td>230000.0</td>\n",
       "    </tr>\n",
       "    <tr>\n",
       "      <th>...</th>\n",
       "      <td>...</td>\n",
       "      <td>...</td>\n",
       "      <td>...</td>\n",
       "      <td>...</td>\n",
       "      <td>...</td>\n",
       "      <td>...</td>\n",
       "    </tr>\n",
       "    <tr>\n",
       "      <th>9995</th>\n",
       "      <td>Hyundai</td>\n",
       "      <td>2012</td>\n",
       "      <td>65000</td>\n",
       "      <td>Petrol</td>\n",
       "      <td>Manual</td>\n",
       "      <td>325000.0</td>\n",
       "    </tr>\n",
       "    <tr>\n",
       "      <th>9996</th>\n",
       "      <td>Maruti Suzuki</td>\n",
       "      <td>2018</td>\n",
       "      <td>85000</td>\n",
       "      <td>CNG &amp; Hybrids</td>\n",
       "      <td>Manual</td>\n",
       "      <td>290000.0</td>\n",
       "    </tr>\n",
       "    <tr>\n",
       "      <th>9997</th>\n",
       "      <td>Maruti Suzuki</td>\n",
       "      <td>2010</td>\n",
       "      <td>72000</td>\n",
       "      <td>Petrol</td>\n",
       "      <td>Manual</td>\n",
       "      <td>320000.0</td>\n",
       "    </tr>\n",
       "    <tr>\n",
       "      <th>9998</th>\n",
       "      <td>Tata</td>\n",
       "      <td>2012</td>\n",
       "      <td>70000</td>\n",
       "      <td>Diesel</td>\n",
       "      <td>Manual</td>\n",
       "      <td>185000.0</td>\n",
       "    </tr>\n",
       "    <tr>\n",
       "      <th>9999</th>\n",
       "      <td>Ford</td>\n",
       "      <td>2018</td>\n",
       "      <td>53764</td>\n",
       "      <td>Diesel</td>\n",
       "      <td>Manual</td>\n",
       "      <td>875000.0</td>\n",
       "    </tr>\n",
       "  </tbody>\n",
       "</table>\n",
       "<p>10000 rows × 6 columns</p>\n",
       "</div>"
      ],
      "text/plain": [
       "     Used Car Model  Year of Manufacture  Kilometers Driven      Fuel Type  \\\n",
       "0           Hyundai                 2017               2200         Petrol   \n",
       "1           Hyundai                 2013              91500         Diesel   \n",
       "2              Ford                 2017              36000         Diesel   \n",
       "3             Honda                 2015              90000         Diesel   \n",
       "4     Maruti Suzuki                 2010              40000         Petrol   \n",
       "...             ...                  ...                ...            ...   \n",
       "9995        Hyundai                 2012              65000         Petrol   \n",
       "9996  Maruti Suzuki                 2018              85000  CNG & Hybrids   \n",
       "9997  Maruti Suzuki                 2010              72000         Petrol   \n",
       "9998           Tata                 2012              70000         Diesel   \n",
       "9999           Ford                 2018              53764         Diesel   \n",
       "\n",
       "     Transmission Type  Used Car Price  \n",
       "0               Manual        525000.0  \n",
       "1               Manual        595000.0  \n",
       "2               Manual        775000.0  \n",
       "3               Manual        400000.0  \n",
       "4               Manual        230000.0  \n",
       "...                ...             ...  \n",
       "9995            Manual        325000.0  \n",
       "9996            Manual        290000.0  \n",
       "9997            Manual        320000.0  \n",
       "9998            Manual        185000.0  \n",
       "9999            Manual        875000.0  \n",
       "\n",
       "[10000 rows x 6 columns]"
      ]
     },
     "execution_count": 18,
     "metadata": {},
     "output_type": "execute_result"
    }
   ],
   "source": [
    "df"
   ]
  },
  {
   "cell_type": "markdown",
   "id": "937a782b",
   "metadata": {},
   "source": [
    "Now we are changing the year value from object to integer datatype but before that we have removed all \"-\" and replaced them with the median year value."
   ]
  },
  {
   "cell_type": "code",
   "execution_count": 19,
   "id": "dadb0fca",
   "metadata": {},
   "outputs": [],
   "source": [
    "df[\"Fuel Type\"]=df[\"Fuel Type\"].apply(lambda x: x if x!='-' else 'Petrol') # replacing with common fuel type in india\n",
    "df[\"Transmission Type\"]=df[\"Transmission Type\"].apply(lambda x: x if x!='-' else 'Manual') # common transmission is manual\n",
    "df[\"Used Car Model\"]=df[\"Used Car Model\"].apply(lambda x: x if x!='-' else 'Hyundai') # common used car model\n",
    "df[\"Kilometers Driven\"]=df[\"Kilometers Driven\"].apply(lambda x: x if x!='-' else 'None')\n",
    "avg_usedcar_price=df[\"Used Car Price\"].mean()\n",
    "df[\"Used Car Price\"]=df[\"Used Car Price\"].apply(lambda x: x if x!='-' else avg_usedcar_price) # average used car prices"
   ]
  },
  {
   "cell_type": "code",
   "execution_count": 20,
   "id": "18fcb96b",
   "metadata": {},
   "outputs": [
    {
     "data": {
      "text/html": [
       "<div>\n",
       "<style scoped>\n",
       "    .dataframe tbody tr th:only-of-type {\n",
       "        vertical-align: middle;\n",
       "    }\n",
       "\n",
       "    .dataframe tbody tr th {\n",
       "        vertical-align: top;\n",
       "    }\n",
       "\n",
       "    .dataframe thead th {\n",
       "        text-align: right;\n",
       "    }\n",
       "</style>\n",
       "<table border=\"1\" class=\"dataframe\">\n",
       "  <thead>\n",
       "    <tr style=\"text-align: right;\">\n",
       "      <th></th>\n",
       "      <th>Used Car Model</th>\n",
       "      <th>Year of Manufacture</th>\n",
       "      <th>Kilometers Driven</th>\n",
       "      <th>Fuel Type</th>\n",
       "      <th>Transmission Type</th>\n",
       "      <th>Used Car Price</th>\n",
       "    </tr>\n",
       "  </thead>\n",
       "  <tbody>\n",
       "    <tr>\n",
       "      <th>0</th>\n",
       "      <td>Hyundai</td>\n",
       "      <td>2017</td>\n",
       "      <td>2200</td>\n",
       "      <td>Petrol</td>\n",
       "      <td>Manual</td>\n",
       "      <td>525000.0</td>\n",
       "    </tr>\n",
       "    <tr>\n",
       "      <th>1</th>\n",
       "      <td>Hyundai</td>\n",
       "      <td>2013</td>\n",
       "      <td>91500</td>\n",
       "      <td>Diesel</td>\n",
       "      <td>Manual</td>\n",
       "      <td>595000.0</td>\n",
       "    </tr>\n",
       "    <tr>\n",
       "      <th>2</th>\n",
       "      <td>Ford</td>\n",
       "      <td>2017</td>\n",
       "      <td>36000</td>\n",
       "      <td>Diesel</td>\n",
       "      <td>Manual</td>\n",
       "      <td>775000.0</td>\n",
       "    </tr>\n",
       "    <tr>\n",
       "      <th>3</th>\n",
       "      <td>Honda</td>\n",
       "      <td>2015</td>\n",
       "      <td>90000</td>\n",
       "      <td>Diesel</td>\n",
       "      <td>Manual</td>\n",
       "      <td>400000.0</td>\n",
       "    </tr>\n",
       "    <tr>\n",
       "      <th>4</th>\n",
       "      <td>Maruti Suzuki</td>\n",
       "      <td>2010</td>\n",
       "      <td>40000</td>\n",
       "      <td>Petrol</td>\n",
       "      <td>Manual</td>\n",
       "      <td>230000.0</td>\n",
       "    </tr>\n",
       "    <tr>\n",
       "      <th>...</th>\n",
       "      <td>...</td>\n",
       "      <td>...</td>\n",
       "      <td>...</td>\n",
       "      <td>...</td>\n",
       "      <td>...</td>\n",
       "      <td>...</td>\n",
       "    </tr>\n",
       "    <tr>\n",
       "      <th>9995</th>\n",
       "      <td>Hyundai</td>\n",
       "      <td>2012</td>\n",
       "      <td>65000</td>\n",
       "      <td>Petrol</td>\n",
       "      <td>Manual</td>\n",
       "      <td>325000.0</td>\n",
       "    </tr>\n",
       "    <tr>\n",
       "      <th>9996</th>\n",
       "      <td>Maruti Suzuki</td>\n",
       "      <td>2018</td>\n",
       "      <td>85000</td>\n",
       "      <td>CNG &amp; Hybrids</td>\n",
       "      <td>Manual</td>\n",
       "      <td>290000.0</td>\n",
       "    </tr>\n",
       "    <tr>\n",
       "      <th>9997</th>\n",
       "      <td>Maruti Suzuki</td>\n",
       "      <td>2010</td>\n",
       "      <td>72000</td>\n",
       "      <td>Petrol</td>\n",
       "      <td>Manual</td>\n",
       "      <td>320000.0</td>\n",
       "    </tr>\n",
       "    <tr>\n",
       "      <th>9998</th>\n",
       "      <td>Tata</td>\n",
       "      <td>2012</td>\n",
       "      <td>70000</td>\n",
       "      <td>Diesel</td>\n",
       "      <td>Manual</td>\n",
       "      <td>185000.0</td>\n",
       "    </tr>\n",
       "    <tr>\n",
       "      <th>9999</th>\n",
       "      <td>Ford</td>\n",
       "      <td>2018</td>\n",
       "      <td>53764</td>\n",
       "      <td>Diesel</td>\n",
       "      <td>Manual</td>\n",
       "      <td>875000.0</td>\n",
       "    </tr>\n",
       "  </tbody>\n",
       "</table>\n",
       "<p>10000 rows × 6 columns</p>\n",
       "</div>"
      ],
      "text/plain": [
       "     Used Car Model  Year of Manufacture  Kilometers Driven      Fuel Type  \\\n",
       "0           Hyundai                 2017               2200         Petrol   \n",
       "1           Hyundai                 2013              91500         Diesel   \n",
       "2              Ford                 2017              36000         Diesel   \n",
       "3             Honda                 2015              90000         Diesel   \n",
       "4     Maruti Suzuki                 2010              40000         Petrol   \n",
       "...             ...                  ...                ...            ...   \n",
       "9995        Hyundai                 2012              65000         Petrol   \n",
       "9996  Maruti Suzuki                 2018              85000  CNG & Hybrids   \n",
       "9997  Maruti Suzuki                 2010              72000         Petrol   \n",
       "9998           Tata                 2012              70000         Diesel   \n",
       "9999           Ford                 2018              53764         Diesel   \n",
       "\n",
       "     Transmission Type  Used Car Price  \n",
       "0               Manual        525000.0  \n",
       "1               Manual        595000.0  \n",
       "2               Manual        775000.0  \n",
       "3               Manual        400000.0  \n",
       "4               Manual        230000.0  \n",
       "...                ...             ...  \n",
       "9995            Manual        325000.0  \n",
       "9996            Manual        290000.0  \n",
       "9997            Manual        320000.0  \n",
       "9998            Manual        185000.0  \n",
       "9999            Manual        875000.0  \n",
       "\n",
       "[10000 rows x 6 columns]"
      ]
     },
     "execution_count": 20,
     "metadata": {},
     "output_type": "execute_result"
    }
   ],
   "source": [
    "df"
   ]
  },
  {
   "cell_type": "markdown",
   "id": "4cd8ea02",
   "metadata": {},
   "source": [
    "Here I have ensured that all the remaining columns with \"-\" records are been treated and replaced with values that made sense researching on Google and using proper replacement techniques."
   ]
  },
  {
   "cell_type": "code",
   "execution_count": 21,
   "id": "33d74117",
   "metadata": {},
   "outputs": [
    {
     "data": {
      "text/html": [
       "<div>\n",
       "<style scoped>\n",
       "    .dataframe tbody tr th:only-of-type {\n",
       "        vertical-align: middle;\n",
       "    }\n",
       "\n",
       "    .dataframe tbody tr th {\n",
       "        vertical-align: top;\n",
       "    }\n",
       "\n",
       "    .dataframe thead th {\n",
       "        text-align: right;\n",
       "    }\n",
       "</style>\n",
       "<table border=\"1\" class=\"dataframe\">\n",
       "  <thead>\n",
       "    <tr style=\"text-align: right;\">\n",
       "      <th></th>\n",
       "      <th>Unique Values</th>\n",
       "    </tr>\n",
       "  </thead>\n",
       "  <tbody>\n",
       "    <tr>\n",
       "      <th>Transmission Type</th>\n",
       "      <td>2</td>\n",
       "    </tr>\n",
       "    <tr>\n",
       "      <th>Fuel Type</th>\n",
       "      <td>5</td>\n",
       "    </tr>\n",
       "    <tr>\n",
       "      <th>Year of Manufacture</th>\n",
       "      <td>30</td>\n",
       "    </tr>\n",
       "    <tr>\n",
       "      <th>Used Car Price</th>\n",
       "      <td>751</td>\n",
       "    </tr>\n",
       "    <tr>\n",
       "      <th>Kilometers Driven</th>\n",
       "      <td>979</td>\n",
       "    </tr>\n",
       "    <tr>\n",
       "      <th>Used Car Model</th>\n",
       "      <td>2055</td>\n",
       "    </tr>\n",
       "  </tbody>\n",
       "</table>\n",
       "</div>"
      ],
      "text/plain": [
       "                     Unique Values\n",
       "Transmission Type                2\n",
       "Fuel Type                        5\n",
       "Year of Manufacture             30\n",
       "Used Car Price                 751\n",
       "Kilometers Driven              979\n",
       "Used Car Model                2055"
      ]
     },
     "execution_count": 21,
     "metadata": {},
     "output_type": "execute_result"
    }
   ],
   "source": [
    "df.nunique().sort_values().to_frame(\"Unique Values\")"
   ]
  },
  {
   "cell_type": "markdown",
   "id": "54c995a4",
   "metadata": {},
   "source": [
    "We are checking for the reduction in unique values since we have removed a lot of \"-\" data that were not captured at the time of web scraping."
   ]
  },
  {
   "cell_type": "code",
   "execution_count": 22,
   "id": "4d95d2b5",
   "metadata": {},
   "outputs": [
    {
     "name": "stdout",
     "output_type": "stream",
     "text": [
      "Transmission Type\n",
      "Manual       8598\n",
      "Automatic    1402\n",
      "Name: Transmission Type, dtype: int64\n",
      "========================================================================================================================\n",
      "Fuel Type\n",
      "Diesel           5345\n",
      "Petrol           4442\n",
      "CNG & Hybrids     108\n",
      "CNG                57\n",
      "LPG                48\n",
      "Name: Fuel Type, dtype: int64\n",
      "========================================================================================================================\n",
      "Year of Manufacture\n",
      "2017    1099\n",
      "2016    1021\n",
      "2018     983\n",
      "2015     975\n",
      "2012     844\n",
      "2014     842\n",
      "2013     802\n",
      "2011     733\n",
      "2019     642\n",
      "2010     519\n",
      "2009     366\n",
      "2008     300\n",
      "2007     207\n",
      "2006     148\n",
      "2020     132\n",
      "2005     112\n",
      "2004      71\n",
      "2003      55\n",
      "2002      45\n",
      "1999      24\n",
      "2000      24\n",
      "2001      16\n",
      "1997      11\n",
      "2021      10\n",
      "1998       9\n",
      "1996       3\n",
      "1994       3\n",
      "1995       2\n",
      "1983       1\n",
      "1991       1\n",
      "Name: Year of Manufacture, dtype: int64\n",
      "========================================================================================================================\n"
     ]
    }
   ],
   "source": [
    "for col in value:\n",
    "    print(col)\n",
    "    print(df[col].value_counts())\n",
    "    print(\"=\"*120)"
   ]
  },
  {
   "cell_type": "code",
   "execution_count": 23,
   "id": "47c88b67",
   "metadata": {},
   "outputs": [
    {
     "name": "stdout",
     "output_type": "stream",
     "text": [
      "<class 'pandas.core.frame.DataFrame'>\n",
      "RangeIndex: 10000 entries, 0 to 9999\n",
      "Data columns (total 6 columns):\n",
      " #   Column               Non-Null Count  Dtype  \n",
      "---  ------               --------------  -----  \n",
      " 0   Used Car Model       10000 non-null  object \n",
      " 1   Year of Manufacture  10000 non-null  int32  \n",
      " 2   Kilometers Driven    10000 non-null  int64  \n",
      " 3   Fuel Type            10000 non-null  object \n",
      " 4   Transmission Type    10000 non-null  object \n",
      " 5   Used Car Price       10000 non-null  float64\n",
      "dtypes: float64(1), int32(1), int64(1), object(3)\n",
      "memory usage: 429.8+ KB\n"
     ]
    }
   ],
   "source": [
    "df.info()"
   ]
  },
  {
   "cell_type": "code",
   "execution_count": 24,
   "id": "f6e78448",
   "metadata": {},
   "outputs": [
    {
     "data": {
      "text/html": [
       "<div>\n",
       "<style scoped>\n",
       "    .dataframe tbody tr th:only-of-type {\n",
       "        vertical-align: middle;\n",
       "    }\n",
       "\n",
       "    .dataframe tbody tr th {\n",
       "        vertical-align: top;\n",
       "    }\n",
       "\n",
       "    .dataframe thead th {\n",
       "        text-align: right;\n",
       "    }\n",
       "</style>\n",
       "<table border=\"1\" class=\"dataframe\">\n",
       "  <thead>\n",
       "    <tr style=\"text-align: right;\">\n",
       "      <th></th>\n",
       "      <th>Used Car Model</th>\n",
       "      <th>Year of Manufacture</th>\n",
       "      <th>Kilometers Driven</th>\n",
       "      <th>Fuel Type</th>\n",
       "      <th>Transmission Type</th>\n",
       "      <th>Used Car Price</th>\n",
       "    </tr>\n",
       "  </thead>\n",
       "  <tbody>\n",
       "    <tr>\n",
       "      <th>count</th>\n",
       "      <td>10000</td>\n",
       "      <td>10000.00000</td>\n",
       "      <td>1.000000e+04</td>\n",
       "      <td>10000</td>\n",
       "      <td>10000</td>\n",
       "      <td>1.000000e+04</td>\n",
       "    </tr>\n",
       "    <tr>\n",
       "      <th>unique</th>\n",
       "      <td>2055</td>\n",
       "      <td>NaN</td>\n",
       "      <td>NaN</td>\n",
       "      <td>5</td>\n",
       "      <td>2</td>\n",
       "      <td>NaN</td>\n",
       "    </tr>\n",
       "    <tr>\n",
       "      <th>top</th>\n",
       "      <td>Maruti Suzuki</td>\n",
       "      <td>NaN</td>\n",
       "      <td>NaN</td>\n",
       "      <td>Diesel</td>\n",
       "      <td>Manual</td>\n",
       "      <td>NaN</td>\n",
       "    </tr>\n",
       "    <tr>\n",
       "      <th>freq</th>\n",
       "      <td>602</td>\n",
       "      <td>NaN</td>\n",
       "      <td>NaN</td>\n",
       "      <td>5345</td>\n",
       "      <td>8598</td>\n",
       "      <td>NaN</td>\n",
       "    </tr>\n",
       "    <tr>\n",
       "      <th>mean</th>\n",
       "      <td>NaN</td>\n",
       "      <td>2013.69860</td>\n",
       "      <td>6.914651e+04</td>\n",
       "      <td>NaN</td>\n",
       "      <td>NaN</td>\n",
       "      <td>6.608371e+05</td>\n",
       "    </tr>\n",
       "    <tr>\n",
       "      <th>std</th>\n",
       "      <td>NaN</td>\n",
       "      <td>4.02124</td>\n",
       "      <td>5.868048e+04</td>\n",
       "      <td>NaN</td>\n",
       "      <td>NaN</td>\n",
       "      <td>1.204508e+06</td>\n",
       "    </tr>\n",
       "    <tr>\n",
       "      <th>min</th>\n",
       "      <td>NaN</td>\n",
       "      <td>1983.00000</td>\n",
       "      <td>0.000000e+00</td>\n",
       "      <td>NaN</td>\n",
       "      <td>NaN</td>\n",
       "      <td>0.000000e+00</td>\n",
       "    </tr>\n",
       "    <tr>\n",
       "      <th>25%</th>\n",
       "      <td>NaN</td>\n",
       "      <td>2011.00000</td>\n",
       "      <td>3.500000e+04</td>\n",
       "      <td>NaN</td>\n",
       "      <td>NaN</td>\n",
       "      <td>2.549990e+05</td>\n",
       "    </tr>\n",
       "    <tr>\n",
       "      <th>50%</th>\n",
       "      <td>NaN</td>\n",
       "      <td>2014.00000</td>\n",
       "      <td>6.000000e+04</td>\n",
       "      <td>NaN</td>\n",
       "      <td>NaN</td>\n",
       "      <td>4.500000e+05</td>\n",
       "    </tr>\n",
       "    <tr>\n",
       "      <th>75%</th>\n",
       "      <td>NaN</td>\n",
       "      <td>2017.00000</td>\n",
       "      <td>9.000000e+04</td>\n",
       "      <td>NaN</td>\n",
       "      <td>NaN</td>\n",
       "      <td>6.770000e+05</td>\n",
       "    </tr>\n",
       "    <tr>\n",
       "      <th>max</th>\n",
       "      <td>NaN</td>\n",
       "      <td>2021.00000</td>\n",
       "      <td>2.360457e+06</td>\n",
       "      <td>NaN</td>\n",
       "      <td>NaN</td>\n",
       "      <td>6.300000e+07</td>\n",
       "    </tr>\n",
       "  </tbody>\n",
       "</table>\n",
       "</div>"
      ],
      "text/plain": [
       "       Used Car Model  Year of Manufacture  Kilometers Driven Fuel Type  \\\n",
       "count           10000          10000.00000       1.000000e+04     10000   \n",
       "unique           2055                  NaN                NaN         5   \n",
       "top     Maruti Suzuki                  NaN                NaN    Diesel   \n",
       "freq              602                  NaN                NaN      5345   \n",
       "mean              NaN           2013.69860       6.914651e+04       NaN   \n",
       "std               NaN              4.02124       5.868048e+04       NaN   \n",
       "min               NaN           1983.00000       0.000000e+00       NaN   \n",
       "25%               NaN           2011.00000       3.500000e+04       NaN   \n",
       "50%               NaN           2014.00000       6.000000e+04       NaN   \n",
       "75%               NaN           2017.00000       9.000000e+04       NaN   \n",
       "max               NaN           2021.00000       2.360457e+06       NaN   \n",
       "\n",
       "       Transmission Type  Used Car Price  \n",
       "count              10000    1.000000e+04  \n",
       "unique                 2             NaN  \n",
       "top               Manual             NaN  \n",
       "freq                8598             NaN  \n",
       "mean                 NaN    6.608371e+05  \n",
       "std                  NaN    1.204508e+06  \n",
       "min                  NaN    0.000000e+00  \n",
       "25%                  NaN    2.549990e+05  \n",
       "50%                  NaN    4.500000e+05  \n",
       "75%                  NaN    6.770000e+05  \n",
       "max                  NaN    6.300000e+07  "
      ]
     },
     "execution_count": 24,
     "metadata": {},
     "output_type": "execute_result"
    }
   ],
   "source": [
    "df.describe(include=\"all\")"
   ]
  },
  {
   "cell_type": "markdown",
   "id": "eaa3cba8",
   "metadata": {},
   "source": [
    "Using the describe method I am taking a look at all the column value details and basically it's count, mean, standard deviation, min, 25%, 50%, 75% and max quartile data."
   ]
  },
  {
   "cell_type": "markdown",
   "id": "b87bb2e3",
   "metadata": {},
   "source": [
    "# Visualizations"
   ]
  },
  {
   "cell_type": "code",
   "execution_count": 25,
   "id": "860392e7",
   "metadata": {},
   "outputs": [
    {
     "data": {
      "image/png": "[encoded data removed]",
      "text/plain": [
       "<Figure size 720x504 with 2 Axes>"
      ]
     },
     "metadata": {
      "needs_background": "light"
     },
     "output_type": "display_data"
    }
   ],
   "source": [
    "# visualizing the statistical description of numeric datatype columns\n",
    "\n",
    "plt.figure(figsize = (10,7))\n",
    "sns.heatmap(round(df.describe()[1:],2), linewidth = 2, annot= True, fmt = \".2f\", cmap=\"hot\")\n",
    "plt.title(\"Satistical Report of Numerical Columns\\n\")\n",
    "plt.xticks(fontsize = 10)\n",
    "plt.yticks(fontsize = 10)\n",
    "plt.show()"
   ]
  },
  {
   "cell_type": "markdown",
   "id": "93811742",
   "metadata": {},
   "source": [
    "In the visual representation we have taken into consideration only the numeric data part and can see that the only abnormality is used car maximum price which is higher than all the other values."
   ]
  },
  {
   "cell_type": "code",
   "execution_count": 26,
   "id": "2ae85c6c",
   "metadata": {},
   "outputs": [
    {
     "data": {
      "text/plain": [
       "(10000, 6)"
      ]
     },
     "execution_count": 26,
     "metadata": {},
     "output_type": "execute_result"
    }
   ],
   "source": [
    "df.shape"
   ]
  },
  {
   "cell_type": "code",
   "execution_count": 28,
   "id": "ba149793",
   "metadata": {},
   "outputs": [
    {
     "data": {
      "text/plain": [
       "Diesel           5345\n",
       "Petrol           4442\n",
       "CNG & Hybrids     108\n",
       "CNG                57\n",
       "LPG                48\n",
       "Name: Fuel Type, dtype: int64"
      ]
     },
     "execution_count": 28,
     "metadata": {},
     "output_type": "execute_result"
    }
   ],
   "source": [
    "#Analysing data of the column 'Fuel'\n",
    "df['Fuel Type'].value_counts()"
   ]
  },
  {
   "cell_type": "code",
   "execution_count": 29,
   "id": "07035dd5",
   "metadata": {},
   "outputs": [],
   "source": [
    "#Removing the null values from the column 'Fuel'\n",
    "#replace the values with mode\n",
    "\n",
    "from sklearn.impute import SimpleImputer\n",
    "imp=SimpleImputer(strategy=\"most_frequent\")\n",
    "df['Fuel Type']=imp.fit_transform(df['Fuel Type'].values.reshape(-1,1))"
   ]
  },
  {
   "cell_type": "code",
   "execution_count": 30,
   "id": "72a11cb9",
   "metadata": {},
   "outputs": [
    {
     "data": {
      "text/plain": [
       "Used Car Model         0\n",
       "Year of Manufacture    0\n",
       "Kilometers Driven      0\n",
       "Fuel Type              0\n",
       "Transmission Type      0\n",
       "Used Car Price         0\n",
       "dtype: int64"
      ]
     },
     "execution_count": 30,
     "metadata": {},
     "output_type": "execute_result"
    }
   ],
   "source": [
    "#Lets check the null values again if they are removed or not\n",
    "df.isnull().sum()"
   ]
  },
  {
   "cell_type": "code",
   "execution_count": 31,
   "id": "b5e8fa0a",
   "metadata": {},
   "outputs": [
    {
     "data": {
      "text/html": [
       "<div>\n",
       "<style scoped>\n",
       "    .dataframe tbody tr th:only-of-type {\n",
       "        vertical-align: middle;\n",
       "    }\n",
       "\n",
       "    .dataframe tbody tr th {\n",
       "        vertical-align: top;\n",
       "    }\n",
       "\n",
       "    .dataframe thead th {\n",
       "        text-align: right;\n",
       "    }\n",
       "</style>\n",
       "<table border=\"1\" class=\"dataframe\">\n",
       "  <thead>\n",
       "    <tr style=\"text-align: right;\">\n",
       "      <th></th>\n",
       "      <th>Year of Manufacture</th>\n",
       "      <th>Kilometers Driven</th>\n",
       "      <th>Used Car Price</th>\n",
       "    </tr>\n",
       "  </thead>\n",
       "  <tbody>\n",
       "    <tr>\n",
       "      <th>Year of Manufacture</th>\n",
       "      <td>1.000000</td>\n",
       "      <td>-0.391988</td>\n",
       "      <td>0.278422</td>\n",
       "    </tr>\n",
       "    <tr>\n",
       "      <th>Kilometers Driven</th>\n",
       "      <td>-0.391988</td>\n",
       "      <td>1.000000</td>\n",
       "      <td>-0.147619</td>\n",
       "    </tr>\n",
       "    <tr>\n",
       "      <th>Used Car Price</th>\n",
       "      <td>0.278422</td>\n",
       "      <td>-0.147619</td>\n",
       "      <td>1.000000</td>\n",
       "    </tr>\n",
       "  </tbody>\n",
       "</table>\n",
       "</div>"
      ],
      "text/plain": [
       "                     Year of Manufacture  Kilometers Driven  Used Car Price\n",
       "Year of Manufacture             1.000000          -0.391988        0.278422\n",
       "Kilometers Driven              -0.391988           1.000000       -0.147619\n",
       "Used Car Price                  0.278422          -0.147619        1.000000"
      ]
     },
     "execution_count": 31,
     "metadata": {},
     "output_type": "execute_result"
    }
   ],
   "source": [
    "#Checking for correlation\n",
    "df.corr()"
   ]
  },
  {
   "cell_type": "code",
   "execution_count": 32,
   "id": "9fbf46f5",
   "metadata": {},
   "outputs": [
    {
     "data": {
      "text/plain": [
       "<AxesSubplot:>"
      ]
     },
     "execution_count": 32,
     "metadata": {},
     "output_type": "execute_result"
    },
    {
     "data": {
      "image/png": "[encoded data removed]",
      "text/plain": [
       "<Figure size 1008x1008 with 2 Axes>"
      ]
     },
     "metadata": {
      "needs_background": "light"
     },
     "output_type": "display_data"
    }
   ],
   "source": [
    "#Visualizing the correlation\n",
    "plt.figure(figsize=(14,14))  \n",
    "sns.heatmap(df.corr(), annot=True, fmt='.0%')"
   ]
  },
  {
   "cell_type": "markdown",
   "id": "8ac2f2e3",
   "metadata": {},
   "source": [
    "From the correlation matrix,we can see that less columns are positively correlated with the target variable 'Price'.We can see that the independent variables are highly correlated with each other"
   ]
  },
  {
   "cell_type": "code",
   "execution_count": 33,
   "id": "9b345bb7",
   "metadata": {},
   "outputs": [
    {
     "data": {
      "text/plain": [
       "array([[<AxesSubplot:title={'center':'Year of Manufacture'}>,\n",
       "        <AxesSubplot:title={'center':'Kilometers Driven'}>,\n",
       "        <AxesSubplot:title={'center':'Used Car Price'}>, <AxesSubplot:>],\n",
       "       [<AxesSubplot:>, <AxesSubplot:>, <AxesSubplot:>, <AxesSubplot:>],\n",
       "       [<AxesSubplot:>, <AxesSubplot:>, <AxesSubplot:>, <AxesSubplot:>],\n",
       "       [<AxesSubplot:>, <AxesSubplot:>, <AxesSubplot:>, <AxesSubplot:>]],\n",
       "      dtype=object)"
      ]
     },
     "execution_count": 33,
     "metadata": {},
     "output_type": "execute_result"
    },
    {
     "data": {
      "image/png": "[encoded data removed]",
      "text/plain": [
       "<Figure size 1440x1440 with 16 Axes>"
      ]
     },
     "metadata": {
      "needs_background": "light"
     },
     "output_type": "display_data"
    }
   ],
   "source": [
    "#Plotting histogram\n",
    "#A histogram shows the frequency on the vertical axis and the horizontal axis in another dimension. \n",
    "# In this graph, we can also check whether the graph is right skewed, left skewed or the graph is normally distributed graph\n",
    "df.hist(figsize=(20,20),grid=True,layout=(4,4),bins=30)"
   ]
  },
  {
   "cell_type": "code",
   "execution_count": 34,
   "id": "d3a9931b",
   "metadata": {},
   "outputs": [
    {
     "data": {
      "text/plain": [
       "Year of Manufacture    -0.970990\n",
       "Kilometers Driven       9.944101\n",
       "Used Car Price         28.995597\n",
       "dtype: float64"
      ]
     },
     "execution_count": 34,
     "metadata": {},
     "output_type": "execute_result"
    }
   ],
   "source": [
    "#Checking skewness in my data\n",
    "df.skew()"
   ]
  },
  {
   "cell_type": "code",
   "execution_count": 35,
   "id": "0af04651",
   "metadata": {},
   "outputs": [
    {
     "data": {
      "text/plain": [
       "Year of Manufacture       AxesSubplot(0.125,0.71587;0.133621x0.16413)\n",
       "Kilometers Driven      AxesSubplot(0.285345,0.71587;0.133621x0.16413)\n",
       "Used Car Price          AxesSubplot(0.44569,0.71587;0.133621x0.16413)\n",
       "dtype: object"
      ]
     },
     "execution_count": 35,
     "metadata": {},
     "output_type": "execute_result"
    },
    {
     "data": {
      "image/png": "[encoded data removed]",
      "text/plain": [
       "<Figure size 1080x720 with 20 Axes>"
      ]
     },
     "metadata": {
      "needs_background": "light"
     },
     "output_type": "display_data"
    }
   ],
   "source": [
    "#Checking outliers using boxplots\n",
    "df.plot(kind='box',subplots=True,layout=(4,5),figsize=(15,10))"
   ]
  },
  {
   "cell_type": "markdown",
   "id": "d8988479",
   "metadata": {},
   "source": [
    "From the boxplots,it is clearly seen that no such outliers are present,so I will not go for outlier removal."
   ]
  },
  {
   "cell_type": "code",
   "execution_count": 36,
   "id": "7b20f0de",
   "metadata": {},
   "outputs": [],
   "source": [
    "#Splitting the independent and target variable in x and y\n",
    "x=df.drop('Used Car Price',axis=1)\n",
    "y=df['Used Car Price']"
   ]
  },
  {
   "cell_type": "code",
   "execution_count": 39,
   "id": "c9fe5f45",
   "metadata": {},
   "outputs": [],
   "source": [
    "#Label Encoder\n",
    "from sklearn.preprocessing import LabelEncoder\n",
    "\n",
    "le = LabelEncoder()\n",
    "df['Used Car Model'] = le.fit_transform(df['Used Car Model'])\n",
    "df['Fuel Type'] = le.fit_transform(df['Fuel Type'])\n",
    "df['Transmission Type'] = le.fit_transform(df['Transmission Type'])\n",
    "#Now lets check the first five rows of the dataset"
   ]
  },
  {
   "cell_type": "code",
   "execution_count": 42,
   "id": "a03a7a55",
   "metadata": {},
   "outputs": [
    {
     "data": {
      "text/html": [
       "<div>\n",
       "<style scoped>\n",
       "    .dataframe tbody tr th:only-of-type {\n",
       "        vertical-align: middle;\n",
       "    }\n",
       "\n",
       "    .dataframe tbody tr th {\n",
       "        vertical-align: top;\n",
       "    }\n",
       "\n",
       "    .dataframe thead th {\n",
       "        text-align: right;\n",
       "    }\n",
       "</style>\n",
       "<table border=\"1\" class=\"dataframe\">\n",
       "  <thead>\n",
       "    <tr style=\"text-align: right;\">\n",
       "      <th></th>\n",
       "      <th>Used Car Model</th>\n",
       "      <th>Year of Manufacture</th>\n",
       "      <th>Kilometers Driven</th>\n",
       "      <th>Fuel Type</th>\n",
       "      <th>Transmission Type</th>\n",
       "      <th>Used Car Price</th>\n",
       "    </tr>\n",
       "  </thead>\n",
       "  <tbody>\n",
       "    <tr>\n",
       "      <th>0</th>\n",
       "      <td>460</td>\n",
       "      <td>2017</td>\n",
       "      <td>2200</td>\n",
       "      <td>4</td>\n",
       "      <td>1</td>\n",
       "      <td>525000.0</td>\n",
       "    </tr>\n",
       "    <tr>\n",
       "      <th>1</th>\n",
       "      <td>460</td>\n",
       "      <td>2013</td>\n",
       "      <td>91500</td>\n",
       "      <td>2</td>\n",
       "      <td>1</td>\n",
       "      <td>595000.0</td>\n",
       "    </tr>\n",
       "    <tr>\n",
       "      <th>2</th>\n",
       "      <td>186</td>\n",
       "      <td>2017</td>\n",
       "      <td>36000</td>\n",
       "      <td>2</td>\n",
       "      <td>1</td>\n",
       "      <td>775000.0</td>\n",
       "    </tr>\n",
       "    <tr>\n",
       "      <th>3</th>\n",
       "      <td>318</td>\n",
       "      <td>2015</td>\n",
       "      <td>90000</td>\n",
       "      <td>2</td>\n",
       "      <td>1</td>\n",
       "      <td>400000.0</td>\n",
       "    </tr>\n",
       "    <tr>\n",
       "      <th>4</th>\n",
       "      <td>1274</td>\n",
       "      <td>2010</td>\n",
       "      <td>40000</td>\n",
       "      <td>4</td>\n",
       "      <td>1</td>\n",
       "      <td>230000.0</td>\n",
       "    </tr>\n",
       "    <tr>\n",
       "      <th>...</th>\n",
       "      <td>...</td>\n",
       "      <td>...</td>\n",
       "      <td>...</td>\n",
       "      <td>...</td>\n",
       "      <td>...</td>\n",
       "      <td>...</td>\n",
       "    </tr>\n",
       "    <tr>\n",
       "      <th>9995</th>\n",
       "      <td>460</td>\n",
       "      <td>2012</td>\n",
       "      <td>65000</td>\n",
       "      <td>4</td>\n",
       "      <td>1</td>\n",
       "      <td>325000.0</td>\n",
       "    </tr>\n",
       "    <tr>\n",
       "      <th>9996</th>\n",
       "      <td>1274</td>\n",
       "      <td>2018</td>\n",
       "      <td>85000</td>\n",
       "      <td>1</td>\n",
       "      <td>1</td>\n",
       "      <td>290000.0</td>\n",
       "    </tr>\n",
       "    <tr>\n",
       "      <th>9997</th>\n",
       "      <td>1274</td>\n",
       "      <td>2010</td>\n",
       "      <td>72000</td>\n",
       "      <td>4</td>\n",
       "      <td>1</td>\n",
       "      <td>320000.0</td>\n",
       "    </tr>\n",
       "    <tr>\n",
       "      <th>9998</th>\n",
       "      <td>1633</td>\n",
       "      <td>2012</td>\n",
       "      <td>70000</td>\n",
       "      <td>2</td>\n",
       "      <td>1</td>\n",
       "      <td>185000.0</td>\n",
       "    </tr>\n",
       "    <tr>\n",
       "      <th>9999</th>\n",
       "      <td>186</td>\n",
       "      <td>2018</td>\n",
       "      <td>53764</td>\n",
       "      <td>2</td>\n",
       "      <td>1</td>\n",
       "      <td>875000.0</td>\n",
       "    </tr>\n",
       "  </tbody>\n",
       "</table>\n",
       "<p>10000 rows × 6 columns</p>\n",
       "</div>"
      ],
      "text/plain": [
       "      Used Car Model  Year of Manufacture  Kilometers Driven  Fuel Type  \\\n",
       "0                460                 2017               2200          4   \n",
       "1                460                 2013              91500          2   \n",
       "2                186                 2017              36000          2   \n",
       "3                318                 2015              90000          2   \n",
       "4               1274                 2010              40000          4   \n",
       "...              ...                  ...                ...        ...   \n",
       "9995             460                 2012              65000          4   \n",
       "9996            1274                 2018              85000          1   \n",
       "9997            1274                 2010              72000          4   \n",
       "9998            1633                 2012              70000          2   \n",
       "9999             186                 2018              53764          2   \n",
       "\n",
       "      Transmission Type  Used Car Price  \n",
       "0                     1        525000.0  \n",
       "1                     1        595000.0  \n",
       "2                     1        775000.0  \n",
       "3                     1        400000.0  \n",
       "4                     1        230000.0  \n",
       "...                 ...             ...  \n",
       "9995                  1        325000.0  \n",
       "9996                  1        290000.0  \n",
       "9997                  1        320000.0  \n",
       "9998                  1        185000.0  \n",
       "9999                  1        875000.0  \n",
       "\n",
       "[10000 rows x 6 columns]"
      ]
     },
     "execution_count": 42,
     "metadata": {},
     "output_type": "execute_result"
    }
   ],
   "source": [
    "df"
   ]
  },
  {
   "cell_type": "code",
   "execution_count": 43,
   "id": "965c617e",
   "metadata": {},
   "outputs": [],
   "source": [
    "#Splitting the independent and target variable in x and y\n",
    "x=df.drop('Used Car Price',axis=1)\n",
    "y=df['Used Car Price']"
   ]
  },
  {
   "cell_type": "code",
   "execution_count": 44,
   "id": "dd2e95c4",
   "metadata": {},
   "outputs": [],
   "source": [
    "#Using StandardScaler to scale the data \n",
    "from sklearn.preprocessing import StandardScaler\n",
    "scale=StandardScaler()\n",
    "x=scale.fit_transform(x)"
   ]
  },
  {
   "cell_type": "code",
   "execution_count": 45,
   "id": "850eabb9",
   "metadata": {},
   "outputs": [
    {
     "name": "stdout",
     "output_type": "stream",
     "text": [
      "r2 score correspond to random state 40 is 0.21767344196673288\n",
      "r2 score correspond to random state 40 is 0.210091194860762\n",
      "r2 score correspond to random state 40 is 0.16604701018379986\n",
      "r2 score correspond to random state 40 is 0.10584400014399953\n",
      "r2 score correspond to random state 40 is 0.20562060071742516\n",
      "r2 score correspond to random state 41 is 0.34800785126610956\n",
      "r2 score correspond to random state 41 is 0.28942194922159414\n",
      "r2 score correspond to random state 41 is 0.21352446817028825\n",
      "r2 score correspond to random state 41 is 0.15176763041279784\n",
      "r2 score correspond to random state 41 is 0.3278324477470511\n",
      "r2 score correspond to random state 42 is 0.32078385963496325\n",
      "r2 score correspond to random state 42 is 0.2746736234840115\n",
      "r2 score correspond to random state 42 is 0.17108301148471072\n",
      "r2 score correspond to random state 42 is 0.14694565843750484\n",
      "r2 score correspond to random state 42 is 0.3187113868842977\n",
      "r2 score correspond to random state 43 is 0.7623837010629307\n",
      "r2 score correspond to random state 43 is 0.8161151420220851\n",
      "r2 score correspond to random state 43 is -0.6210664536582018\n",
      "r2 score correspond to random state 43 is 0.4712895457179871\n",
      "r2 score correspond to random state 43 is 0.748863585453626\n",
      "r2 score correspond to random state 44 is 0.36810886153707156\n",
      "r2 score correspond to random state 44 is 0.21075569470415378\n",
      "r2 score correspond to random state 44 is 0.1888882357208167\n",
      "r2 score correspond to random state 44 is 0.16615417118108788\n",
      "r2 score correspond to random state 44 is 0.34182173490403134\n",
      "r2 score correspond to random state 45 is 0.3693563993812017\n",
      "r2 score correspond to random state 45 is 0.3078451303500007\n",
      "r2 score correspond to random state 45 is 0.2285450405457119\n",
      "r2 score correspond to random state 45 is 0.16514864443233923\n",
      "r2 score correspond to random state 45 is 0.34395311751188207\n",
      "r2 score correspond to random state 46 is 0.18623633422490593\n",
      "r2 score correspond to random state 46 is 0.16828894583640142\n",
      "r2 score correspond to random state 46 is 0.0930289219770053\n",
      "r2 score correspond to random state 46 is 0.08952892542307955\n",
      "r2 score correspond to random state 46 is 0.17585359691803304\n",
      "r2 score correspond to random state 47 is 0.366933678186392\n",
      "r2 score correspond to random state 47 is 0.31263003873496753\n",
      "r2 score correspond to random state 47 is 0.20784279917726312\n",
      "r2 score correspond to random state 47 is 0.16521712240423536\n",
      "r2 score correspond to random state 47 is 0.3485954416236232\n",
      "r2 score correspond to random state 48 is 0.3302664062302765\n",
      "r2 score correspond to random state 48 is 0.28560692986633407\n",
      "r2 score correspond to random state 48 is 0.21469664625972018\n",
      "r2 score correspond to random state 48 is 0.15160625019200047\n",
      "r2 score correspond to random state 48 is 0.31749865779098674\n",
      "r2 score correspond to random state 49 is 0.3279917815744625\n",
      "r2 score correspond to random state 49 is 0.25934119946835543\n",
      "r2 score correspond to random state 49 is 0.05835645461711281\n",
      "r2 score correspond to random state 49 is 0.16089205743728263\n",
      "r2 score correspond to random state 49 is 0.3123172167443886\n",
      "r2 score correspond to random state 50 is 0.3414947409244491\n",
      "r2 score correspond to random state 50 is 0.2853877153375043\n",
      "r2 score correspond to random state 50 is 0.047935878011286515\n",
      "r2 score correspond to random state 50 is 0.15689464932574038\n",
      "r2 score correspond to random state 50 is 0.3164607588714894\n",
      "r2 score correspond to random state 51 is 0.3576084589600199\n",
      "r2 score correspond to random state 51 is 0.30492836113380417\n",
      "r2 score correspond to random state 51 is -0.026235499777951032\n",
      "r2 score correspond to random state 51 is 0.1569484246313254\n",
      "r2 score correspond to random state 51 is 0.33055963914367414\n",
      "r2 score correspond to random state 52 is 0.3204769645352318\n",
      "r2 score correspond to random state 52 is 0.24931701582065458\n",
      "r2 score correspond to random state 52 is 0.08278703889375705\n",
      "r2 score correspond to random state 52 is 0.14295340236433274\n",
      "r2 score correspond to random state 52 is 0.30414102219398187\n",
      "r2 score correspond to random state 53 is 0.34909696696261416\n",
      "r2 score correspond to random state 53 is 0.27429975982182353\n",
      "r2 score correspond to random state 53 is 0.25210638391667917\n",
      "r2 score correspond to random state 53 is 0.15973060500023906\n",
      "r2 score correspond to random state 53 is 0.3297063329645803\n",
      "r2 score correspond to random state 54 is 0.20392273985248244\n",
      "r2 score correspond to random state 54 is 0.18254646208573322\n",
      "r2 score correspond to random state 54 is 0.09212126674430332\n",
      "r2 score correspond to random state 54 is 0.10316766365011998\n",
      "r2 score correspond to random state 54 is 0.18785341735286487\n",
      "r2 score correspond to random state 55 is 0.19379841603763048\n",
      "r2 score correspond to random state 55 is 0.17524385447869362\n",
      "r2 score correspond to random state 55 is 0.1321661266522488\n",
      "r2 score correspond to random state 55 is 0.10123076839135026\n",
      "r2 score correspond to random state 55 is 0.1842715493633773\n",
      "r2 score correspond to random state 56 is 0.8237536263201449\n",
      "r2 score correspond to random state 56 is 0.8308089010374946\n",
      "r2 score correspond to random state 56 is -0.16177322677052053\n",
      "r2 score correspond to random state 56 is 0.47451276302357825\n",
      "r2 score correspond to random state 56 is 0.8055133323705259\n",
      "r2 score correspond to random state 57 is 0.8226956480369162\n",
      "r2 score correspond to random state 57 is 0.8814669431666834\n",
      "r2 score correspond to random state 57 is -0.20414549148160566\n",
      "r2 score correspond to random state 57 is 0.4754758998266455\n",
      "r2 score correspond to random state 57 is 0.7717735762613968\n",
      "r2 score correspond to random state 58 is 0.3627835273454\n",
      "r2 score correspond to random state 58 is 0.2847792989684934\n",
      "r2 score correspond to random state 58 is 0.08916935479415422\n",
      "r2 score correspond to random state 58 is 0.1641141765736509\n",
      "r2 score correspond to random state 58 is 0.329504663000062\n",
      "r2 score correspond to random state 59 is 0.20337086443950825\n",
      "r2 score correspond to random state 59 is 0.1975642161483635\n",
      "r2 score correspond to random state 59 is 0.14017655520983996\n",
      "r2 score correspond to random state 59 is 0.09855501467090999\n",
      "r2 score correspond to random state 59 is 0.19576826552175175\n",
      "r2 score correspond to random state 60 is 0.8562499548918332\n",
      "r2 score correspond to random state 60 is -0.018505308651898478\n",
      "r2 score correspond to random state 60 is -0.27975070095642085\n",
      "r2 score correspond to random state 60 is 0.4617506134846807\n",
      "r2 score correspond to random state 60 is 0.7928619178847172\n",
      "r2 score correspond to random state 61 is 0.3403746366548195\n",
      "r2 score correspond to random state 61 is 0.27432313699367183\n",
      "r2 score correspond to random state 61 is 0.0706708780048354\n",
      "r2 score correspond to random state 61 is 0.1531859168437164\n",
      "r2 score correspond to random state 61 is 0.32490742429120867\n",
      "r2 score correspond to random state 62 is 0.2014039211638341\n",
      "r2 score correspond to random state 62 is 0.19416817215035675\n",
      "r2 score correspond to random state 62 is 0.15219081705155058\n",
      "r2 score correspond to random state 62 is 0.10196887856536285\n",
      "r2 score correspond to random state 62 is 0.19282448447449274\n",
      "r2 score correspond to random state 63 is 0.3819600115418116\n",
      "r2 score correspond to random state 63 is 0.3196549958549002\n",
      "r2 score correspond to random state 63 is 0.2724386889189877\n",
      "r2 score correspond to random state 63 is 0.17652389323496354\n",
      "r2 score correspond to random state 63 is 0.35724847330612997\n",
      "r2 score correspond to random state 64 is 0.35951006183291234\n",
      "r2 score correspond to random state 64 is 0.3213357994815812\n",
      "r2 score correspond to random state 64 is 0.11356200101175351\n",
      "r2 score correspond to random state 64 is 0.17996529902898117\n",
      "r2 score correspond to random state 64 is 0.3556970056358869\n",
      "r2 score correspond to random state 65 is 0.347007152161536\n",
      "r2 score correspond to random state 65 is 0.31139354796878926\n",
      "r2 score correspond to random state 65 is 0.15125295276482087\n",
      "r2 score correspond to random state 65 is 0.16715886880576114\n",
      "r2 score correspond to random state 65 is 0.3389306392138649\n",
      "r2 score correspond to random state 66 is 0.39140409129266596\n",
      "r2 score correspond to random state 66 is 0.3239802181941842\n",
      "r2 score correspond to random state 66 is 0.08845713210997241\n",
      "r2 score correspond to random state 66 is 0.18455936803937278\n",
      "r2 score correspond to random state 66 is 0.363942693933766\n",
      "r2 score correspond to random state 67 is 0.3455547179031091\n",
      "r2 score correspond to random state 67 is 0.2953839718737681\n",
      "r2 score correspond to random state 67 is 0.09191214143293602\n",
      "r2 score correspond to random state 67 is 0.15933335835040985\n",
      "r2 score correspond to random state 67 is 0.32859778100933745\n",
      "r2 score correspond to random state 68 is 0.32779159390127943\n",
      "r2 score correspond to random state 68 is 0.2653747964001406\n",
      "r2 score correspond to random state 68 is 0.12288634460852166\n",
      "r2 score correspond to random state 68 is 0.14395636321104177\n",
      "r2 score correspond to random state 68 is 0.3149866422520583\n",
      "r2 score correspond to random state 69 is 0.7563438831370276\n",
      "r2 score correspond to random state 69 is 0.8269554825012213\n",
      "r2 score correspond to random state 69 is -0.9584741186880408\n",
      "r2 score correspond to random state 69 is 0.4500438949721456\n",
      "r2 score correspond to random state 69 is 0.6914148388084891\n",
      "r2 score correspond to random state 70 is 0.8225276260530706\n",
      "r2 score correspond to random state 70 is 0.8468808659686062\n",
      "r2 score correspond to random state 70 is -0.17193594264428036\n",
      "r2 score correspond to random state 70 is 0.48544485533329695\n",
      "r2 score correspond to random state 70 is 0.8051825869528803\n",
      "r2 score correspond to random state 71 is 0.3579654092075861\n",
      "r2 score correspond to random state 71 is 0.3023877247009562\n",
      "r2 score correspond to random state 71 is 0.035972740857715846\n",
      "r2 score correspond to random state 71 is 0.17127312133383676\n",
      "r2 score correspond to random state 71 is 0.35666139454740375\n",
      "r2 score correspond to random state 72 is 0.3695204812289439\n",
      "r2 score correspond to random state 72 is 0.3043342281512924\n",
      "r2 score correspond to random state 72 is -0.07534297157577496\n",
      "r2 score correspond to random state 72 is 0.17140020216796958\n",
      "r2 score correspond to random state 72 is 0.3541840374670705\n",
      "r2 score correspond to random state 73 is 0.7792951441586441\n",
      "r2 score correspond to random state 73 is 0.8467558996063232\n",
      "r2 score correspond to random state 73 is -0.9871751342718948\n",
      "r2 score correspond to random state 73 is 0.4604918811445782\n",
      "r2 score correspond to random state 73 is 0.7455687773463765\n",
      "r2 score correspond to random state 74 is 0.7195690965119105\n",
      "r2 score correspond to random state 74 is 0.8727581194579006\n",
      "r2 score correspond to random state 74 is -0.7383912944094466\n",
      "r2 score correspond to random state 74 is 0.4791372976795567\n",
      "r2 score correspond to random state 74 is 0.6715696627452539\n",
      "r2 score correspond to random state 75 is 0.34160098788705073\n",
      "r2 score correspond to random state 75 is 0.031733032231842206\n",
      "r2 score correspond to random state 75 is -0.03312692969536579\n",
      "r2 score correspond to random state 75 is 0.15596071461232264\n",
      "r2 score correspond to random state 75 is 0.31974333194509774\n",
      "r2 score correspond to random state 76 is 0.3761820178590509\n",
      "r2 score correspond to random state 76 is 0.31044285184713727\n",
      "r2 score correspond to random state 76 is 0.1622641475013753\n",
      "r2 score correspond to random state 76 is 0.16913714729064278\n",
      "r2 score correspond to random state 76 is 0.34893863762369537\n",
      "r2 score correspond to random state 77 is 0.7855272984341404\n",
      "r2 score correspond to random state 77 is 0.8558399937247558\n",
      "r2 score correspond to random state 77 is -1.4020219889589893\n",
      "r2 score correspond to random state 77 is 0.48507317112163206\n",
      "r2 score correspond to random state 77 is 0.7552213453547685\n",
      "r2 score correspond to random state 78 is 0.3860934680506303\n",
      "r2 score correspond to random state 78 is 0.3197966277791554\n",
      "r2 score correspond to random state 78 is 0.1585732121652924\n",
      "r2 score correspond to random state 78 is 0.18056114626713604\n",
      "r2 score correspond to random state 78 is 0.3571388307383856\n",
      "r2 score correspond to random state 79 is 0.325863685708384\n",
      "r2 score correspond to random state 79 is 0.2734503641366294\n",
      "r2 score correspond to random state 79 is 0.12913360575510613\n",
      "r2 score correspond to random state 79 is 0.1503788208369592\n",
      "r2 score correspond to random state 79 is 0.3134265199453683\n",
      "r2 score correspond to random state 80 is 0.21872582370806226\n",
      "r2 score correspond to random state 80 is 0.19969239946134199\n",
      "r2 score correspond to random state 80 is 0.15014595522036922\n",
      "r2 score correspond to random state 80 is 0.10474889133340992\n",
      "r2 score correspond to random state 80 is 0.20758820247191256\n",
      "r2 score correspond to random state 81 is 0.2057577391903812\n",
      "r2 score correspond to random state 81 is 0.1939184075027346\n",
      "r2 score correspond to random state 81 is 0.10500007649153931\n",
      "r2 score correspond to random state 81 is 0.10689560892978078\n",
      "r2 score correspond to random state 81 is 0.19534100987066016\n",
      "r2 score correspond to random state 82 is 0.3596752523439368\n",
      "r2 score correspond to random state 82 is 0.16889058368520804\n",
      "r2 score correspond to random state 82 is 0.1340493556301463\n",
      "r2 score correspond to random state 82 is 0.16744785745858592\n",
      "r2 score correspond to random state 82 is 0.34240203237075717\n",
      "r2 score correspond to random state 83 is 0.8820080586265345\n",
      "r2 score correspond to random state 83 is 0.8623238525392237\n",
      "r2 score correspond to random state 83 is -0.04141673633386356\n",
      "r2 score correspond to random state 83 is 0.4553119008830977\n",
      "r2 score correspond to random state 83 is 0.8149852611744998\n",
      "r2 score correspond to random state 84 is 0.20093361942890287\n",
      "r2 score correspond to random state 84 is 0.17702659208312177\n",
      "r2 score correspond to random state 84 is 0.13392389086448042\n",
      "r2 score correspond to random state 84 is 0.10062422046114095\n",
      "r2 score correspond to random state 84 is 0.1906570137316118\n",
      "r2 score correspond to random state 85 is 0.3730044658593382\n",
      "r2 score correspond to random state 85 is 0.3147082932689129\n",
      "r2 score correspond to random state 85 is 0.16719950344822576\n",
      "r2 score correspond to random state 85 is 0.1729261829188572\n",
      "r2 score correspond to random state 85 is 0.3551797421425634\n",
      "r2 score correspond to random state 86 is 0.8293591709570721\n",
      "r2 score correspond to random state 86 is 0.8485251669712931\n",
      "r2 score correspond to random state 86 is -0.6549392325739491\n",
      "r2 score correspond to random state 86 is 0.4290044944862138\n",
      "r2 score correspond to random state 86 is 0.7898768397012703\n",
      "r2 score correspond to random state 87 is 0.35894831963133644\n",
      "r2 score correspond to random state 87 is 0.194797860015257\n",
      "r2 score correspond to random state 87 is 0.12684530121715887\n",
      "r2 score correspond to random state 87 is 0.1636525735444807\n",
      "r2 score correspond to random state 87 is 0.33873216434441544\n",
      "r2 score correspond to random state 88 is 0.37944670564026795\n",
      "r2 score correspond to random state 88 is 0.33466588303144595\n",
      "r2 score correspond to random state 88 is 0.13456939671194357\n",
      "r2 score correspond to random state 88 is 0.17752603224839159\n",
      "r2 score correspond to random state 88 is 0.36034457986619695\n",
      "r2 score correspond to random state 89 is 0.838119704628446\n",
      "r2 score correspond to random state 89 is 0.8535392343981396\n",
      "r2 score correspond to random state 89 is -0.4636405163919992\n",
      "r2 score correspond to random state 89 is 0.45469723391228534\n",
      "r2 score correspond to random state 89 is 0.7946896658455026\n",
      "\n",
      "\n",
      "\n",
      "\n",
      "max r2 score correspond to random state 83 is 0.8820080586265345 and model is DecisionTreeRegressor()\n"
     ]
    }
   ],
   "source": [
    "#Model Building(Finding the best random state)\n",
    "\n",
    "model=[DecisionTreeRegressor(),KNeighborsRegressor(),AdaBoostRegressor(),LinearRegression(),GradientBoostingRegressor()]\n",
    "max_r2_score=0\n",
    "for r_state in range(40,90):\n",
    "    train_x,test_x,train_y,test_y=train_test_split(x,y,random_state=r_state,test_size=0.33)\n",
    "    for i in model:\n",
    "        i.fit(train_x,train_y)\n",
    "        pre=i.predict(test_x)\n",
    "        r2_sc=r2_score(test_y,pre)\n",
    "        print('r2 score correspond to random state',r_state,'is',r2_sc)\n",
    "        if r2_sc>max_r2_score:\n",
    "            max_r2_score=r2_sc\n",
    "            final_state=r_state\n",
    "            final_model=i\n",
    "print()\n",
    "print()\n",
    "print()\n",
    "print()\n",
    "print('max r2 score correspond to random state',final_state,'is',max_r2_score,'and model is',final_model) "
   ]
  },
  {
   "cell_type": "markdown",
   "id": "eac10035",
   "metadata": {},
   "source": [
    "Above I am using for loop which helps me to provide the r2 score at each random state and for the best state where r2 score is maximum has come as output value.\n",
    "\n",
    "The best model is DecisionTreeRegressor and the r2 score is 88% to random state 83."
   ]
  },
  {
   "cell_type": "code",
   "execution_count": 46,
   "id": "b48fb228",
   "metadata": {},
   "outputs": [],
   "source": [
    "train_x,test_x,train_y,test_y=train_test_split(x,y,random_state=60,test_size=0.33)"
   ]
  },
  {
   "cell_type": "code",
   "execution_count": 47,
   "id": "9a6a5542",
   "metadata": {},
   "outputs": [
    {
     "data": {
      "text/html": [
       "<style>#sk-container-id-1 {color: black;background-color: white;}#sk-container-id-1 pre{padding: 0;}#sk-container-id-1 div.sk-toggleable {background-color: white;}#sk-container-id-1 label.sk-toggleable__label {cursor: pointer;display: block;width: 100%;margin-bottom: 0;padding: 0.3em;box-sizing: border-box;text-align: center;}#sk-container-id-1 label.sk-toggleable__label-arrow:before {content: \"▸\";float: left;margin-right: 0.25em;color: #696969;}#sk-container-id-1 label.sk-toggleable__label-arrow:hover:before {color: black;}#sk-container-id-1 div.sk-estimator:hover label.sk-toggleable__label-arrow:before {color: black;}#sk-container-id-1 div.sk-toggleable__content {max-height: 0;max-width: 0;overflow: hidden;text-align: left;background-color: #f0f8ff;}#sk-container-id-1 div.sk-toggleable__content pre {margin: 0.2em;color: black;border-radius: 0.25em;background-color: #f0f8ff;}#sk-container-id-1 input.sk-toggleable__control:checked~div.sk-toggleable__content {max-height: 200px;max-width: 100%;overflow: auto;}#sk-container-id-1 input.sk-toggleable__control:checked~label.sk-toggleable__label-arrow:before {content: \"▾\";}#sk-container-id-1 div.sk-estimator input.sk-toggleable__control:checked~label.sk-toggleable__label {background-color: #d4ebff;}#sk-container-id-1 div.sk-label input.sk-toggleable__control:checked~label.sk-toggleable__label {background-color: #d4ebff;}#sk-container-id-1 input.sk-hidden--visually {border: 0;clip: rect(1px 1px 1px 1px);clip: rect(1px, 1px, 1px, 1px);height: 1px;margin: -1px;overflow: hidden;padding: 0;position: absolute;width: 1px;}#sk-container-id-1 div.sk-estimator {font-family: monospace;background-color: #f0f8ff;border: 1px dotted black;border-radius: 0.25em;box-sizing: border-box;margin-bottom: 0.5em;}#sk-container-id-1 div.sk-estimator:hover {background-color: #d4ebff;}#sk-container-id-1 div.sk-parallel-item::after {content: \"\";width: 100%;border-bottom: 1px solid gray;flex-grow: 1;}#sk-container-id-1 div.sk-label:hover label.sk-toggleable__label {background-color: #d4ebff;}#sk-container-id-1 div.sk-serial::before {content: \"\";position: absolute;border-left: 1px solid gray;box-sizing: border-box;top: 0;bottom: 0;left: 50%;z-index: 0;}#sk-container-id-1 div.sk-serial {display: flex;flex-direction: column;align-items: center;background-color: white;padding-right: 0.2em;padding-left: 0.2em;position: relative;}#sk-container-id-1 div.sk-item {position: relative;z-index: 1;}#sk-container-id-1 div.sk-parallel {display: flex;align-items: stretch;justify-content: center;background-color: white;position: relative;}#sk-container-id-1 div.sk-item::before, #sk-container-id-1 div.sk-parallel-item::before {content: \"\";position: absolute;border-left: 1px solid gray;box-sizing: border-box;top: 0;bottom: 0;left: 50%;z-index: -1;}#sk-container-id-1 div.sk-parallel-item {display: flex;flex-direction: column;z-index: 1;position: relative;background-color: white;}#sk-container-id-1 div.sk-parallel-item:first-child::after {align-self: flex-end;width: 50%;}#sk-container-id-1 div.sk-parallel-item:last-child::after {align-self: flex-start;width: 50%;}#sk-container-id-1 div.sk-parallel-item:only-child::after {width: 0;}#sk-container-id-1 div.sk-dashed-wrapped {border: 1px dashed gray;margin: 0 0.4em 0.5em 0.4em;box-sizing: border-box;padding-bottom: 0.4em;background-color: white;}#sk-container-id-1 div.sk-label label {font-family: monospace;font-weight: bold;display: inline-block;line-height: 1.2em;}#sk-container-id-1 div.sk-label-container {text-align: center;}#sk-container-id-1 div.sk-container {/* jupyter's `normalize.less` sets `[hidden] { display: none; }` but bootstrap.min.css set `[hidden] { display: none !important; }` so we also need the `!important` here to be able to override the default hidden behavior on the sphinx rendered scikit-learn.org. See: https://github.com/scikit-learn/scikit-learn/issues/21755 */display: inline-block !important;position: relative;}#sk-container-id-1 div.sk-text-repr-fallback {display: none;}</style><div id=\"sk-container-id-1\" class=\"sk-top-container\"><div class=\"sk-text-repr-fallback\"><pre>DecisionTreeRegressor()</pre><b>In a Jupyter environment, please rerun this cell to show the HTML representation or trust the notebook. <br />On GitHub, the HTML representation is unable to render, please try loading this page with nbviewer.org.</b></div><div class=\"sk-container\" hidden><div class=\"sk-item\"><div class=\"sk-estimator sk-toggleable\"><input class=\"sk-toggleable__control sk-hidden--visually\" id=\"sk-estimator-id-1\" type=\"checkbox\" checked><label for=\"sk-estimator-id-1\" class=\"sk-toggleable__label sk-toggleable__label-arrow\">DecisionTreeRegressor</label><div class=\"sk-toggleable__content\"><pre>DecisionTreeRegressor()</pre></div></div></div></div></div>"
      ],
      "text/plain": [
       "DecisionTreeRegressor()"
      ]
     },
     "execution_count": 47,
     "metadata": {},
     "output_type": "execute_result"
    }
   ],
   "source": [
    "from sklearn.tree import DecisionTreeRegressor\n",
    "dt=DecisionTreeRegressor()\n",
    "dt.fit(train_x,train_y)"
   ]
  },
  {
   "cell_type": "code",
   "execution_count": 48,
   "id": "1b193422",
   "metadata": {},
   "outputs": [],
   "source": [
    "y_pred=dt.predict(test_x)"
   ]
  },
  {
   "cell_type": "code",
   "execution_count": 49,
   "id": "2f24599f",
   "metadata": {},
   "outputs": [
    {
     "data": {
      "text/plain": [
       "0.40838774448938486"
      ]
     },
     "execution_count": 49,
     "metadata": {},
     "output_type": "execute_result"
    }
   ],
   "source": [
    "dt.score(train_x,train_y)"
   ]
  },
  {
   "cell_type": "code",
   "execution_count": 50,
   "id": "569d4ecb",
   "metadata": {},
   "outputs": [
    {
     "data": {
      "text/plain": [
       "0.8609120858419017"
      ]
     },
     "execution_count": 50,
     "metadata": {},
     "output_type": "execute_result"
    }
   ],
   "source": [
    "dt.score(test_x,test_y)"
   ]
  },
  {
   "cell_type": "code",
   "execution_count": 51,
   "id": "5bf56d94",
   "metadata": {},
   "outputs": [
    {
     "data": {
      "image/png": "[encoded data removed]",
      "text/plain": [
       "<Figure size 432x288 with 1 Axes>"
      ]
     },
     "metadata": {
      "needs_background": "light"
     },
     "output_type": "display_data"
    }
   ],
   "source": [
    "#Distribution plot\n",
    "sns.distplot(test_y-y_pred)\n",
    "plt.show()"
   ]
  },
  {
   "cell_type": "code",
   "execution_count": 52,
   "id": "b53fa3b4",
   "metadata": {},
   "outputs": [
    {
     "data": {
      "image/png": "[encoded data removed]",
      "text/plain": [
       "<Figure size 432x288 with 1 Axes>"
      ]
     },
     "metadata": {
      "needs_background": "light"
     },
     "output_type": "display_data"
    }
   ],
   "source": [
    "#Scatter-plot\n",
    "plt.scatter(test_y, y_pred, alpha = 0.5)\n",
    "plt.xlabel(\"test_y\")\n",
    "plt.ylabel(\"y_pred\")\n",
    "plt.show()"
   ]
  },
  {
   "cell_type": "code",
   "execution_count": 53,
   "id": "e3272dc0",
   "metadata": {},
   "outputs": [
    {
     "name": "stdout",
     "output_type": "stream",
     "text": [
      "Mean Absolute Error: 90299.62931903449\n",
      "Mean Squared Error: 85992606756.53409\n",
      "Root Mean Absolute Error: 300.49896725119453\n"
     ]
    }
   ],
   "source": [
    "from sklearn.metrics import mean_absolute_error\n",
    "print('Mean Absolute Error:',mean_absolute_error(test_y,y_pred))\n",
    "print('Mean Squared Error:',mean_squared_error(test_y,y_pred))\n",
    "print('Root Mean Absolute Error:',np.sqrt(mean_absolute_error(test_y,y_pred)))"
   ]
  },
  {
   "cell_type": "code",
   "execution_count": 63,
   "id": "8411752a",
   "metadata": {},
   "outputs": [],
   "source": [
    "from sklearn.model_selection import cross_val_score"
   ]
  },
  {
   "cell_type": "markdown",
   "id": "a51d2def",
   "metadata": {},
   "source": [
    "# Hyper parameter tuning"
   ]
  },
  {
   "cell_type": "code",
   "execution_count": 65,
   "id": "c1dcdff5",
   "metadata": {},
   "outputs": [],
   "source": [
    "from sklearn.model_selection import GridSearchCV\n",
    "from sklearn.linear_model import Lasso"
   ]
  },
  {
   "cell_type": "code",
   "execution_count": 68,
   "id": "155afff3",
   "metadata": {},
   "outputs": [
    {
     "name": "stdout",
     "output_type": "stream",
     "text": [
      "{'alpha': 10, 'random_state': 0}\n"
     ]
    }
   ],
   "source": [
    "parameters={'alpha':[.0001,.001,.01,.1,1,10],'random_state':list(range(0,10))}\n",
    "ls=Lasso()\n",
    "clf=GridSearchCV(ls,parameters)\n",
    "clf.fit(train_x,train_y)\n",
    "print(clf.best_params_)"
   ]
  },
  {
   "cell_type": "code",
   "execution_count": 70,
   "id": "adb22c59",
   "metadata": {},
   "outputs": [
    {
     "data": {
      "text/plain": [
       "0.4617515020688364"
      ]
     },
     "execution_count": 70,
     "metadata": {},
     "output_type": "execute_result"
    }
   ],
   "source": [
    "ls=Lasso(alpha=10,random_state=0)\n",
    "ls.fit(train_x,train_y)\n",
    "pred_ls=ls.predict(test_x)\n",
    "lss=r2_score(test_y,pred_ls)\n",
    "lss"
   ]
  },
  {
   "cell_type": "code",
   "execution_count": 71,
   "id": "536518ca",
   "metadata": {},
   "outputs": [
    {
     "data": {
      "text/plain": [
       "0.33006058132558824"
      ]
     },
     "execution_count": 71,
     "metadata": {},
     "output_type": "execute_result"
    }
   ],
   "source": [
    "cv_score=cross_val_score(ls,x,y,cv=5)\n",
    "cv_mean=cv_score.mean()\n",
    "cv_mean"
   ]
  },
  {
   "cell_type": "code",
   "execution_count": 74,
   "id": "61bfccc3",
   "metadata": {},
   "outputs": [
    {
     "name": "stdout",
     "output_type": "stream",
     "text": [
      "R2 Score 85.35790310912405\n",
      "Cross Val score 66.49913643533552\n"
     ]
    }
   ],
   "source": [
    "Finalmod=DecisionTreeRegressor()\n",
    "Finalmod.fit(train_x,train_y)\n",
    "pred_final=Finalmod.predict(test_x)\n",
    "rfs=r2_score(test_y,pred_final)\n",
    "print('R2 Score', rfs*100)\n",
    "\n",
    "rfscore=cross_val_score(Finalmod,x,y,cv=5)\n",
    "rfc=rfscore.mean()\n",
    "print('Cross Val score', rfc*100)"
   ]
  },
  {
   "cell_type": "markdown",
   "id": "a9a4ce23",
   "metadata": {},
   "source": [
    "We have got accuracy of 85% on training and 66% on Cross validation"
   ]
  },
  {
   "cell_type": "markdown",
   "id": "4f670f5c",
   "metadata": {},
   "source": [
    "The accuracy obtained using Decision tree regressor() is 85%"
   ]
  },
  {
   "cell_type": "code",
   "execution_count": null,
   "id": "802e64fe",
   "metadata": {},
   "outputs": [],
   "source": []
  }
 ],
 "metadata": {
  "kernelspec": {
   "display_name": "Python 3 (ipykernel)",
   "language": "python",
   "name": "python3"
  },
  "language_info": {
   "codemirror_mode": {
    "name": "ipython",
    "version": 3
   },
   "file_extension": ".py",
   "mimetype": "text/x-python",
   "name": "python",
   "nbconvert_exporter": "python",
   "pygments_lexer": "ipython3",
   "version": "3.9.7"
  }
 },
 "nbformat": 4,
 "nbformat_minor": 5
}
